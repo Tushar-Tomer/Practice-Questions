{
 "cells": [
  {
   "cell_type": "markdown",
   "id": "486ca954",
   "metadata": {},
   "source": [
    "# Write a program to count all the letters , digits and special symbols from a given string.\n",
    "\n",
    "# Given :\n",
    "\n",
    "## a = \"P@#yn26at^$&i45veis4488\""
   ]
  },
  {
   "cell_type": "code",
   "execution_count": 1,
   "id": "efdf722a",
   "metadata": {},
   "outputs": [
    {
     "name": "stdout",
     "output_type": "stream",
     "text": [
      "There are  8  Digits.\n",
      "There are  10  Characters.\n",
      "There are  5  Special Characters.\n"
     ]
    }
   ],
   "source": [
    "a = \"P@#yn26at^$&i45veis4488\"\n",
    "d=0\n",
    "c=0\n",
    "s=0\n",
    "for i in a:\n",
    "    if i.isdigit():\n",
    "        d=d+1\n",
    "    elif i.isalpha():\n",
    "        c=c+1\n",
    "    else:\n",
    "        s=s+1\n",
    "print (\"There are \",d,\" Digits.\")\n",
    "print (\"There are \",c,\" Characters.\")\n",
    "print (\"There are \",s,\" Special Characters.\")"
   ]
  }
 ],
 "metadata": {
  "kernelspec": {
   "display_name": "Python 3 (ipykernel)",
   "language": "python",
   "name": "python3"
  },
  "language_info": {
   "codemirror_mode": {
    "name": "ipython",
    "version": 3
   },
   "file_extension": ".py",
   "mimetype": "text/x-python",
   "name": "python",
   "nbconvert_exporter": "python",
   "pygments_lexer": "ipython3",
   "version": "3.9.12"
  }
 },
 "nbformat": 4,
 "nbformat_minor": 5
}
