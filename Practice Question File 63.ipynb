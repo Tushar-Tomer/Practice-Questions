{
 "cells": [
  {
   "cell_type": "markdown",
   "id": "2809a932",
   "metadata": {},
   "source": [
    "## You need to lower all the characters in the given string   s = \"A man, A plan, A goodman:\" and remove all non-alphanumeric characters from the string and check after removing if the string is palindrome or not."
   ]
  },
  {
   "cell_type": "code",
   "execution_count": 1,
   "id": "1e7a7dd2",
   "metadata": {},
   "outputs": [
    {
     "name": "stdout",
     "output_type": "stream",
     "text": [
      "a man, a plan, a goodman:\n",
      "amanaplanagoodman\n",
      "Not Palindrom:\n"
     ]
    }
   ],
   "source": [
    "x=''\n",
    "s = \"A man, A plan, A goodman:\"\n",
    "l=s.lower()\n",
    "print(l)\n",
    "for i in l:\n",
    "    if i.isalnum():\n",
    "        x=x+i\n",
    "print(x)\n",
    "if x==x[::-1]:\n",
    "    print(\"Palindrom:\")\n",
    "else:\n",
    "    print(\"Not Palindrom:\")"
   ]
  }
 ],
 "metadata": {
  "kernelspec": {
   "display_name": "Python 3 (ipykernel)",
   "language": "python",
   "name": "python3"
  },
  "language_info": {
   "codemirror_mode": {
    "name": "ipython",
    "version": 3
   },
   "file_extension": ".py",
   "mimetype": "text/x-python",
   "name": "python",
   "nbconvert_exporter": "python",
   "pygments_lexer": "ipython3",
   "version": "3.9.12"
  }
 },
 "nbformat": 4,
 "nbformat_minor": 5
}
