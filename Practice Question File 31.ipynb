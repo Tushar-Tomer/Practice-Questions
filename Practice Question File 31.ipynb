{
 "cells": [
  {
   "cell_type": "markdown",
   "id": "4ad80d0b",
   "metadata": {},
   "source": [
    "# Write a lambda program to print string if string in lower case then print sting into upper and otherwise lower."
   ]
  },
  {
   "cell_type": "code",
   "execution_count": 1,
   "id": "1f426140",
   "metadata": {},
   "outputs": [
    {
     "name": "stdout",
     "output_type": "stream",
     "text": [
      "Enter Any String=a quick brown fox jumps over the lazy dogs.\n",
      "A QUICK BROWN FOX JUMPS OVER THE LAZY DOGS.\n"
     ]
    }
   ],
   "source": [
    "a=lambda x:x.upper() if x.islower() else x.lower()\n",
    "s=input(\"Enter Any String=\")\n",
    "print(a(s))"
   ]
  },
  {
   "cell_type": "code",
   "execution_count": 2,
   "id": "41deef35",
   "metadata": {},
   "outputs": [
    {
     "name": "stdout",
     "output_type": "stream",
     "text": [
      "Enter Any String=A QUICK BROWN FOX JUMPS OVER THE LAZY DOGS.\n",
      "a quick brown fox jumps over the lazy dogs.\n"
     ]
    }
   ],
   "source": [
    "a=lambda x:x.upper() if x.islower() else x.lower()\n",
    "s=input(\"Enter Any String=\")\n",
    "print(a(s))"
   ]
  },
  {
   "cell_type": "code",
   "execution_count": 3,
   "id": "e4b26437",
   "metadata": {},
   "outputs": [
    {
     "name": "stdout",
     "output_type": "stream",
     "text": [
      "Enter Any String=A quick brown fox jumps over the lazy dogs.\n",
      "a quick brown fox jumps over the lazy dogs.\n"
     ]
    }
   ],
   "source": [
    "a=lambda x:x.upper() if x.islower() else x.lower()\n",
    "s=input(\"Enter Any String=\")\n",
    "print(a(s))"
   ]
  },
  {
   "cell_type": "code",
   "execution_count": 4,
   "id": "cb5a1a61",
   "metadata": {},
   "outputs": [
    {
     "name": "stdout",
     "output_type": "stream",
     "text": [
      "Enter Any String=a QUICK BROWN FOX JUMPS OVER THE LAZY DOGS.\n",
      "a quick brown fox jumps over the lazy dogs.\n"
     ]
    }
   ],
   "source": [
    "a=lambda x:x.upper() if x.islower() else x.lower()\n",
    "s=input(\"Enter Any String=\")\n",
    "print(a(s))"
   ]
  }
 ],
 "metadata": {
  "kernelspec": {
   "display_name": "Python 3 (ipykernel)",
   "language": "python",
   "name": "python3"
  },
  "language_info": {
   "codemirror_mode": {
    "name": "ipython",
    "version": 3
   },
   "file_extension": ".py",
   "mimetype": "text/x-python",
   "name": "python",
   "nbconvert_exporter": "python",
   "pygments_lexer": "ipython3",
   "version": "3.9.12"
  }
 },
 "nbformat": 4,
 "nbformat_minor": 5
}
