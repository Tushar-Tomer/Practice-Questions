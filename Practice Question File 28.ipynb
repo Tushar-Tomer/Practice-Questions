{
 "cells": [
  {
   "cell_type": "markdown",
   "id": "51873705",
   "metadata": {},
   "source": [
    "There are four ways to define function\n",
    "- Takes Nothing,return Nothing\n",
    "- Takes Something, return Nothing\n",
    "- Takes Nothing, return Something\n",
    "- Takes Someethong, return Something"
   ]
  },
  {
   "cell_type": "code",
   "execution_count": 2,
   "id": "45cc9a98",
   "metadata": {},
   "outputs": [
    {
     "name": "stdout",
     "output_type": "stream",
     "text": [
      "enter a 4\n",
      "enter b 4\n",
      "the addition of two variable is 8\n"
     ]
    }
   ],
   "source": [
    "# Takes Nothing return Nothing\n",
    "def add():\n",
    "    a=int(input('enter a '))\n",
    "    b=int(input('enter b '))\n",
    "    result=a+b\n",
    "    print('the addition of two variable is',result)\n",
    "   \n",
    "add()\n"
   ]
  },
  {
   "cell_type": "code",
   "execution_count": 3,
   "id": "38f40656",
   "metadata": {},
   "outputs": [
    {
     "name": "stdout",
     "output_type": "stream",
     "text": [
      "Please enter Two number\n",
      "enter number 44\n",
      "enter number 44\n",
      "the addition of two variable is 88\n"
     ]
    }
   ],
   "source": [
    "# Takes Something, return Nothing\n",
    "def add(M,N): # parameters or formal parameters\n",
    "   \n",
    "    \n",
    "    result=M+N\n",
    "    print('the addition of two variable is',result)\n",
    "print('Please enter Two number')\n",
    "a=int(input('enter number '))\n",
    "b=int(input('enter number '))\n",
    "add(a,b) # arguments or actual parameters\n"
   ]
  },
  {
   "cell_type": "code",
   "execution_count": 4,
   "id": "38a4d9e3",
   "metadata": {},
   "outputs": [
    {
     "name": "stdout",
     "output_type": "stream",
     "text": [
      "Please enter Two number\n",
      "enter number 21\n",
      "enter number 19\n",
      "40\n"
     ]
    }
   ],
   "source": [
    "# Takes Nothing return Something\n",
    "def add():\n",
    "    print('Please enter Two number')\n",
    "    x=int(input('enter number '))\n",
    "    y=int(input('enter number '))\n",
    "    print(x+y)\n",
    "    \n",
    "    \n",
    "    result=x+y\n",
    "\n",
    "    return result\n",
    "\n",
    "    \n",
    "t=add()\n",
    "\n",
    "# print('hii')\n",
    "\n"
   ]
  },
  {
   "cell_type": "code",
   "execution_count": 5,
   "id": "f960e354",
   "metadata": {},
   "outputs": [
    {
     "name": "stdout",
     "output_type": "stream",
     "text": [
      "hii\n",
      "17\n"
     ]
    }
   ],
   "source": [
    "# Takes something, return something\n",
    "def add(x,y):\n",
    "    print('hii')\n",
    "    result=x+y\n",
    "    \n",
    "    return result\n",
    "a=11\n",
    "b=6\n",
    "\n",
    "\n",
    "print(add(a,b))\n"
   ]
  }
 ],
 "metadata": {
  "kernelspec": {
   "display_name": "Python 3 (ipykernel)",
   "language": "python",
   "name": "python3"
  },
  "language_info": {
   "codemirror_mode": {
    "name": "ipython",
    "version": 3
   },
   "file_extension": ".py",
   "mimetype": "text/x-python",
   "name": "python",
   "nbconvert_exporter": "python",
   "pygments_lexer": "ipython3",
   "version": "3.9.12"
  }
 },
 "nbformat": 4,
 "nbformat_minor": 5
}
