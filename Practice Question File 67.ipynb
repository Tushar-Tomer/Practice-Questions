{
 "cells": [
  {
   "cell_type": "markdown",
   "id": "35d81d10",
   "metadata": {},
   "source": [
    "# Write a program to arrange the character of a string so that all lowers should come first.\n",
    "\n",
    "# Given :\n",
    "## a = \"PyNaTive\"\n",
    "\n",
    "# Output :\n",
    "## \"yaivePNT\""
   ]
  },
  {
   "cell_type": "code",
   "execution_count": 5,
   "id": "87774bfb",
   "metadata": {},
   "outputs": [
    {
     "data": {
      "text/plain": [
       "'yaivePNT'"
      ]
     },
     "execution_count": 5,
     "metadata": {},
     "output_type": "execute_result"
    }
   ],
   "source": [
    "a=\"PyNaTive\"\n",
    "x=\"\"\n",
    "y=\"\"\n",
    "for i in a:\n",
    "    if i.islower():\n",
    "        x=x+i\n",
    "    else:\n",
    "        y=y+i\n",
    "x+y"
   ]
  },
  {
   "cell_type": "code",
   "execution_count": 4,
   "id": "ebb51a32",
   "metadata": {},
   "outputs": [
    {
     "data": {
      "text/plain": [
       "'PNTyaive'"
      ]
     },
     "execution_count": 4,
     "metadata": {},
     "output_type": "execute_result"
    }
   ],
   "source": [
    "a=\"PyNaTive\"\n",
    "x=\"\"\n",
    "y=\"\"\n",
    "for i in a:\n",
    "    if i.islower():\n",
    "        x=x+i\n",
    "    else:\n",
    "        y=y+i\n",
    "y+x"
   ]
  }
 ],
 "metadata": {
  "kernelspec": {
   "display_name": "Python 3 (ipykernel)",
   "language": "python",
   "name": "python3"
  },
  "language_info": {
   "codemirror_mode": {
    "name": "ipython",
    "version": 3
   },
   "file_extension": ".py",
   "mimetype": "text/x-python",
   "name": "python",
   "nbconvert_exporter": "python",
   "pygments_lexer": "ipython3",
   "version": "3.9.12"
  }
 },
 "nbformat": 4,
 "nbformat_minor": 5
}
