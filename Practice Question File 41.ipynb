{
 "cells": [
  {
   "cell_type": "markdown",
   "id": "5e8287af",
   "metadata": {},
   "source": [
    "# Q- If any question have an error then use try and except and one thing always remember try and except both are use together (Agar kisi question ma error a rahi hai to try aur except ka use hoga aur hamesha try aur except dono saath ma use honge)."
   ]
  },
  {
   "cell_type": "code",
   "execution_count": 1,
   "id": "e50fd867",
   "metadata": {},
   "outputs": [
    {
     "name": "stdout",
     "output_type": "stream",
     "text": [
      "Zero can't divide any no.:\n"
     ]
    }
   ],
   "source": [
    "try:\n",
    "    a=10\n",
    "    b=0\n",
    "    print(a/b)\n",
    "except ZeroDivisionError :\n",
    "    print(\"Zero can't divide any no.:\")"
   ]
  },
  {
   "cell_type": "code",
   "execution_count": 4,
   "id": "25455d04",
   "metadata": {},
   "outputs": [
    {
     "name": "stdout",
     "output_type": "stream",
     "text": [
      "5.0\n"
     ]
    }
   ],
   "source": [
    "try:\n",
    "    a=10\n",
    "    b=2\n",
    "    print(a/b)\n",
    "except ZeroDivisionError :\n",
    "    print(\"Zero can't divide any no.:\")"
   ]
  }
 ],
 "metadata": {
  "kernelspec": {
   "display_name": "Python 3 (ipykernel)",
   "language": "python",
   "name": "python3"
  },
  "language_info": {
   "codemirror_mode": {
    "name": "ipython",
    "version": 3
   },
   "file_extension": ".py",
   "mimetype": "text/x-python",
   "name": "python",
   "nbconvert_exporter": "python",
   "pygments_lexer": "ipython3",
   "version": "3.9.12"
  }
 },
 "nbformat": 4,
 "nbformat_minor": 5
}
