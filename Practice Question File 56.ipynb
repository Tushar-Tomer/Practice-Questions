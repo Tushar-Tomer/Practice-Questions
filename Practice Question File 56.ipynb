{
 "cells": [
  {
   "cell_type": "markdown",
   "id": "a214afa3",
   "metadata": {},
   "source": [
    "# Write a program to print a list into a aplhabetical order."
   ]
  },
  {
   "cell_type": "code",
   "execution_count": 1,
   "id": "5c31b569",
   "metadata": {},
   "outputs": [],
   "source": [
    "a=[\"Mango\",\"Apple\",\"Banana\",\"Strawbwery\",\"Chiku\",\"Litchi\",\"Orange\",\"Papaya\"]"
   ]
  },
  {
   "cell_type": "code",
   "execution_count": 2,
   "id": "f8206fdc",
   "metadata": {},
   "outputs": [
    {
     "data": {
      "text/plain": [
       "8"
      ]
     },
     "execution_count": 2,
     "metadata": {},
     "output_type": "execute_result"
    }
   ],
   "source": [
    "len(a)"
   ]
  },
  {
   "cell_type": "code",
   "execution_count": 8,
   "id": "539d3e21",
   "metadata": {},
   "outputs": [
    {
     "data": {
      "text/plain": [
       "['Apple',\n",
       " 'Banana',\n",
       " 'Chiku',\n",
       " 'Litchi',\n",
       " 'Mango',\n",
       " 'Orange',\n",
       " 'Papaya',\n",
       " 'Strawbwery']"
      ]
     },
     "execution_count": 8,
     "metadata": {},
     "output_type": "execute_result"
    }
   ],
   "source": [
    "ascending=sorted(a)\n",
    "ascending"
   ]
  },
  {
   "cell_type": "code",
   "execution_count": 9,
   "id": "529e91c5",
   "metadata": {},
   "outputs": [
    {
     "data": {
      "text/plain": [
       "['Strawbwery',\n",
       " 'Papaya',\n",
       " 'Orange',\n",
       " 'Mango',\n",
       " 'Litchi',\n",
       " 'Chiku',\n",
       " 'Banana',\n",
       " 'Apple']"
      ]
     },
     "execution_count": 9,
     "metadata": {},
     "output_type": "execute_result"
    }
   ],
   "source": [
    "descending=sorted(a,reverse=True)\n",
    "descending"
   ]
  }
 ],
 "metadata": {
  "kernelspec": {
   "display_name": "Python 3 (ipykernel)",
   "language": "python",
   "name": "python3"
  },
  "language_info": {
   "codemirror_mode": {
    "name": "ipython",
    "version": 3
   },
   "file_extension": ".py",
   "mimetype": "text/x-python",
   "name": "python",
   "nbconvert_exporter": "python",
   "pygments_lexer": "ipython3",
   "version": "3.9.12"
  }
 },
 "nbformat": 4,
 "nbformat_minor": 5
}
