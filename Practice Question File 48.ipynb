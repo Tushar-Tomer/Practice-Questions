{
 "cells": [
  {
   "cell_type": "markdown",
   "id": "9909ebd9",
   "metadata": {},
   "source": [
    "# Write a program to count a frequency of the word from the file."
   ]
  },
  {
   "cell_type": "code",
   "execution_count": 1,
   "id": "d7004a90",
   "metadata": {},
   "outputs": [],
   "source": [
    "f=open(\"Count_frequency.txt\",\"w\")\n",
    "f.write(\"Hii student..\")\n",
    "f.write(\"hope u all r doing good..!!\")\n",
    "f.write(\"We are studing file handling\\n.\")\n",
    "f.write(\"Python is intresting\\n\")\n",
    "f.write(\"Python is coding\")\n",
    "f.close()"
   ]
  },
  {
   "cell_type": "code",
   "execution_count": 3,
   "id": "4deb2ca6",
   "metadata": {},
   "outputs": [
    {
     "data": {
      "text/plain": [
       "['Hii student..\\\\n\\n',\n",
       " 'hope u all r doing good..!!\\n',\n",
       " 'We are studing file handling\\\\n.\\n',\n",
       " 'Python is intresting\\\\n\\n',\n",
       " 'Python is coding']"
      ]
     },
     "execution_count": 3,
     "metadata": {},
     "output_type": "execute_result"
    }
   ],
   "source": [
    "f=open(\"Count_frequency.txt\",\"r\")\n",
    "f.readlines()\n"
   ]
  },
  {
   "cell_type": "code",
   "execution_count": 4,
   "id": "59916a50",
   "metadata": {},
   "outputs": [
    {
     "name": "stdout",
     "output_type": "stream",
     "text": [
      "['Hii', 'student..\\\\n', 'hope', 'u', 'all', 'r', 'doing', 'good..!!', 'We', 'are', 'studing', 'file', 'handling\\\\n.', 'Python', 'is', 'intresting\\\\n', 'Python', 'is', 'coding']\n",
      "{'Hii': 1, 'student..\\\\n': 1, 'hope': 1, 'u': 1, 'all': 1, 'r': 1, 'doing': 1, 'good..!!': 1, 'We': 1, 'are': 1, 'studing': 1, 'file': 1, 'handling\\\\n.': 1, 'Python': 2, 'is': 2, 'intresting\\\\n': 1, 'coding': 1}\n"
     ]
    }
   ],
   "source": [
    "a=[]\n",
    "f=open(\"Count_frequency.txt\",\"r\")\n",
    "l=f.readlines()\n",
    "for i in l:\n",
    "    b=i.split()\n",
    "    a.extend(b)\n",
    "print(a)\n",
    "z={j:a.count(k) for j,k in zip(a,a)}\n",
    "print(z)"
   ]
  }
 ],
 "metadata": {
  "kernelspec": {
   "display_name": "Python 3 (ipykernel)",
   "language": "python",
   "name": "python3"
  },
  "language_info": {
   "codemirror_mode": {
    "name": "ipython",
    "version": 3
   },
   "file_extension": ".py",
   "mimetype": "text/x-python",
   "name": "python",
   "nbconvert_exporter": "python",
   "pygments_lexer": "ipython3",
   "version": "3.9.12"
  }
 },
 "nbformat": 4,
 "nbformat_minor": 5
}
