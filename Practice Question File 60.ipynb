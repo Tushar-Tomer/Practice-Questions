{
 "cells": [
  {
   "cell_type": "markdown",
   "id": "e4fcc872",
   "metadata": {},
   "source": [
    "# Write a program to remove empty string from the list of string."
   ]
  },
  {
   "cell_type": "code",
   "execution_count": 1,
   "id": "33f02c28",
   "metadata": {},
   "outputs": [],
   "source": [
    "l=[\"Mike\",\"\",\"Emma\",\"\",\"Kelly\",\"\",\"Brad\",\"\"]"
   ]
  },
  {
   "cell_type": "code",
   "execution_count": 2,
   "id": "9f64a6d2",
   "metadata": {},
   "outputs": [
    {
     "data": {
      "text/plain": [
       "['Mike', 'Emma', 'Kelly', 'Brad']"
      ]
     },
     "execution_count": 2,
     "metadata": {},
     "output_type": "execute_result"
    }
   ],
   "source": [
    "x=[]\n",
    "for i in l:\n",
    "    if len(i)>0:\n",
    "        x.append(i)\n",
    "x"
   ]
  }
 ],
 "metadata": {
  "kernelspec": {
   "display_name": "Python 3 (ipykernel)",
   "language": "python",
   "name": "python3"
  },
  "language_info": {
   "codemirror_mode": {
    "name": "ipython",
    "version": 3
   },
   "file_extension": ".py",
   "mimetype": "text/x-python",
   "name": "python",
   "nbconvert_exporter": "python",
   "pygments_lexer": "ipython3",
   "version": "3.9.12"
  }
 },
 "nbformat": 4,
 "nbformat_minor": 5
}
