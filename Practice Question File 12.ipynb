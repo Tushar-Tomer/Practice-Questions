{
 "cells": [
  {
   "cell_type": "markdown",
   "id": "cfeb5cb9",
   "metadata": {},
   "source": [
    "# Check user input number is palindrome or not."
   ]
  },
  {
   "cell_type": "code",
   "execution_count": 2,
   "id": "72be7f2a",
   "metadata": {},
   "outputs": [
    {
     "name": "stdout",
     "output_type": "stream",
     "text": [
      "Enter Any No.=424\n",
      "424\n",
      "Palindrome No.:\n"
     ]
    }
   ],
   "source": [
    "n=int(input(\"Enter Any No.=\"))\n",
    "x=n\n",
    "rev=0\n",
    "while n!=0:\n",
    "    d=n%10\n",
    "    rev=rev*10+d\n",
    "    n=n//10\n",
    "\n",
    "print(rev)\n",
    "if rev==x:\n",
    "    print(\"Palindrome No.:\")\n",
    "else:\n",
    "    print(\"Not a Palindrome No.:\")"
   ]
  }
 ],
 "metadata": {
  "kernelspec": {
   "display_name": "Python 3 (ipykernel)",
   "language": "python",
   "name": "python3"
  },
  "language_info": {
   "codemirror_mode": {
    "name": "ipython",
    "version": 3
   },
   "file_extension": ".py",
   "mimetype": "text/x-python",
   "name": "python",
   "nbconvert_exporter": "python",
   "pygments_lexer": "ipython3",
   "version": "3.9.12"
  }
 },
 "nbformat": 4,
 "nbformat_minor": 5
}
