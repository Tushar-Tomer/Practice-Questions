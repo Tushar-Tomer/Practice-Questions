{
 "cells": [
  {
   "cell_type": "markdown",
   "id": "c70ed04f",
   "metadata": {},
   "source": [
    "# Create a function where we square a number we want."
   ]
  },
  {
   "cell_type": "code",
   "execution_count": 1,
   "id": "1a8cc164",
   "metadata": {},
   "outputs": [
    {
     "name": "stdout",
     "output_type": "stream",
     "text": [
      "Enter many no. are you enter=4\n",
      "Enter a No.=2\n",
      "Your Square= 4\n",
      "Enter a No.=4\n",
      "Your Square= 16\n",
      "Enter a No.=6\n",
      "Your Square= 36\n",
      "Enter a No.=8\n",
      "Your Square= 64\n"
     ]
    }
   ],
   "source": [
    "n=int(input(\"Enter many no. are you enter=\"))\n",
    "for i in range(n):\n",
    "    def square(a):\n",
    "        print(\"Your Square=\",a**2)\n",
    "    b=int(input(\"Enter a No.=\"))\n",
    "    square(b)"
   ]
  }
 ],
 "metadata": {
  "kernelspec": {
   "display_name": "Python 3 (ipykernel)",
   "language": "python",
   "name": "python3"
  },
  "language_info": {
   "codemirror_mode": {
    "name": "ipython",
    "version": 3
   },
   "file_extension": ".py",
   "mimetype": "text/x-python",
   "name": "python",
   "nbconvert_exporter": "python",
   "pygments_lexer": "ipython3",
   "version": "3.9.12"
  }
 },
 "nbformat": 4,
 "nbformat_minor": 5
}
