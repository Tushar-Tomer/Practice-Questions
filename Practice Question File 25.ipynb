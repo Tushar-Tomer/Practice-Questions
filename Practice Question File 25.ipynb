{
 "cells": [
  {
   "cell_type": "markdown",
   "id": "270e5ac7",
   "metadata": {},
   "source": [
    "# Q- How we add the multiple elements in the end of the list ?"
   ]
  },
  {
   "cell_type": "code",
   "execution_count": 1,
   "id": "c786fcf1",
   "metadata": {},
   "outputs": [
    {
     "name": "stdout",
     "output_type": "stream",
     "text": [
      "[1, 2, 3, 6, 'software', 'madrid']\n"
     ]
    }
   ],
   "source": [
    "l1=[1,2,3,6]\n",
    "l2=[\"software\",\"madrid\"]\n",
    "l1.extend(l2)\n",
    "print(l1)"
   ]
  }
 ],
 "metadata": {
  "kernelspec": {
   "display_name": "Python 3 (ipykernel)",
   "language": "python",
   "name": "python3"
  },
  "language_info": {
   "codemirror_mode": {
    "name": "ipython",
    "version": 3
   },
   "file_extension": ".py",
   "mimetype": "text/x-python",
   "name": "python",
   "nbconvert_exporter": "python",
   "pygments_lexer": "ipython3",
   "version": "3.9.12"
  }
 },
 "nbformat": 4,
 "nbformat_minor": 5
}
