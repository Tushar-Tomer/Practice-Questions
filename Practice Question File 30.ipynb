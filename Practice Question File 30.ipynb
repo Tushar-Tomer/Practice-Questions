{
 "cells": [
  {
   "cell_type": "markdown",
   "id": "0b4f960d",
   "metadata": {},
   "source": [
    "# Q- Write a menu driven calculator through function."
   ]
  },
  {
   "cell_type": "code",
   "execution_count": 1,
   "id": "7416193a",
   "metadata": {},
   "outputs": [
    {
     "name": "stdout",
     "output_type": "stream",
     "text": [
      "Please Enter Your Option:\n",
      "Option:\n",
      "1. Add:\n",
      "2. Subtract:\n",
      "3. Multiplication:\n",
      "4. Divide:\n",
      "Enter Option=1\n",
      "Enter No.1=4\n",
      "Enter No.2=4\n",
      "Sum= 8\n"
     ]
    }
   ],
   "source": [
    "def add():\n",
    "    a=int(input(\"Enter No.1=\"))\n",
    "    b=int(input(\"Enter No.2=\"))\n",
    "    print(\"Sum=\",a+b)\n",
    "def sub():\n",
    "    a=int(input(\"Enter No.1=\"))\n",
    "    b=int(input(\"Enter No.2=\"))\n",
    "    print(\"Subtraction=\",a-b)\n",
    "def mul():\n",
    "    a=int(input(\"Enter No.1=\"))\n",
    "    b=int(input(\"Enter No.2=\"))\n",
    "    print(\"Multiplication=\",a*b)\n",
    "def div():\n",
    "    a=int(input(\"Enter No.1=\"))\n",
    "    b=int(input(\"Enter No.2=\"))\n",
    "    print(\"Divide=\",a//b)\n",
    "print(\"Please Enter Your Option:\")\n",
    "print(\"\"\"Option:\n",
    "1. Add:\n",
    "2. Subtract:\n",
    "3. Multiplication:\n",
    "4. Divide:\"\"\")\n",
    "o=int(input(\"Enter Option=\"))\n",
    "if o==1:\n",
    "    add()\n",
    "elif o==2:\n",
    "    sub()\n",
    "elif o==3:\n",
    "    mul()\n",
    "elif o==4:\n",
    "    div()\n",
    "else:\n",
    "    print(\"Invalid Option:\")"
   ]
  },
  {
   "cell_type": "code",
   "execution_count": 2,
   "id": "c67a1067",
   "metadata": {},
   "outputs": [
    {
     "name": "stdout",
     "output_type": "stream",
     "text": [
      "Please Enter Your Option:\n",
      "Option:\n",
      "1. Add:\n",
      "2. Subtract:\n",
      "3. Multiplication:\n",
      "4. Divide:\n",
      "Enter Option=2\n",
      "Enter No.1=8\n",
      "Enter No.2=4\n",
      "Subtraction= 4\n"
     ]
    }
   ],
   "source": [
    "def add():\n",
    "    a=int(input(\"Enter No.1=\"))\n",
    "    b=int(input(\"Enter No.2=\"))\n",
    "    print(\"Sum=\",a+b)\n",
    "def sub():\n",
    "    a=int(input(\"Enter No.1=\"))\n",
    "    b=int(input(\"Enter No.2=\"))\n",
    "    print(\"Subtraction=\",a-b)\n",
    "def mul():\n",
    "    a=int(input(\"Enter No.1=\"))\n",
    "    b=int(input(\"Enter No.2=\"))\n",
    "    print(\"Multiplication=\",a*b)\n",
    "def div():\n",
    "    a=int(input(\"Enter No.1=\"))\n",
    "    b=int(input(\"Enter No.2=\"))\n",
    "    print(\"Divide=\",a//b)\n",
    "print(\"Please Enter Your Option:\")\n",
    "print(\"\"\"Option:\n",
    "1. Add:\n",
    "2. Subtract:\n",
    "3. Multiplication:\n",
    "4. Divide:\"\"\")\n",
    "o=int(input(\"Enter Option=\"))\n",
    "if o==1:\n",
    "    add()\n",
    "elif o==2:\n",
    "    sub()\n",
    "elif o==3:\n",
    "    mul()\n",
    "elif o==4:\n",
    "    div()\n",
    "else:\n",
    "    print(\"Invalid Option:\")"
   ]
  },
  {
   "cell_type": "code",
   "execution_count": 4,
   "id": "fe2778b7",
   "metadata": {},
   "outputs": [
    {
     "name": "stdout",
     "output_type": "stream",
     "text": [
      "Please Enter Your Option:\n",
      "Option:\n",
      "1. Add:\n",
      "2. Subtract:\n",
      "3. Multiplication:\n",
      "4. Divide:\n",
      "Enter Option=3\n",
      "Enter No.1=4\n",
      "Enter No.2=4\n",
      "Multiplication= 16\n"
     ]
    }
   ],
   "source": [
    "def add():\n",
    "    a=int(input(\"Enter No.1=\"))\n",
    "    b=int(input(\"Enter No.2=\"))\n",
    "    print(\"Sum=\",a+b)\n",
    "def sub():\n",
    "    a=int(input(\"Enter No.1=\"))\n",
    "    b=int(input(\"Enter No.2=\"))\n",
    "    print(\"Subtraction=\",a-b)\n",
    "def mul():\n",
    "    a=int(input(\"Enter No.1=\"))\n",
    "    b=int(input(\"Enter No.2=\"))\n",
    "    print(\"Multiplication=\",a*b)\n",
    "def div():\n",
    "    a=int(input(\"Enter No.1=\"))\n",
    "    b=int(input(\"Enter No.2=\"))\n",
    "    print(\"Divide=\",a//b)\n",
    "print(\"Please Enter Your Option:\")\n",
    "print(\"\"\"Option:\n",
    "1. Add:\n",
    "2. Subtract:\n",
    "3. Multiplication:\n",
    "4. Divide:\"\"\")\n",
    "o=int(input(\"Enter Option=\"))\n",
    "if o==1:\n",
    "    add()\n",
    "elif o==2:\n",
    "    sub()\n",
    "elif o==3:\n",
    "    mul()\n",
    "elif o==4:\n",
    "    div()\n",
    "else:\n",
    "    print(\"Invalid Option:\")"
   ]
  },
  {
   "cell_type": "code",
   "execution_count": 5,
   "id": "4deb9d91",
   "metadata": {},
   "outputs": [
    {
     "name": "stdout",
     "output_type": "stream",
     "text": [
      "Please Enter Your Option:\n",
      "Option:\n",
      "1. Add:\n",
      "2. Subtract:\n",
      "3. Multiplication:\n",
      "4. Divide:\n",
      "Enter Option=4\n",
      "Enter No.1=8\n",
      "Enter No.2=4\n",
      "Divide= 2\n"
     ]
    }
   ],
   "source": [
    "def add():\n",
    "    a=int(input(\"Enter No.1=\"))\n",
    "    b=int(input(\"Enter No.2=\"))\n",
    "    print(\"Sum=\",a+b)\n",
    "def sub():\n",
    "    a=int(input(\"Enter No.1=\"))\n",
    "    b=int(input(\"Enter No.2=\"))\n",
    "    print(\"Subtraction=\",a-b)\n",
    "def mul():\n",
    "    a=int(input(\"Enter No.1=\"))\n",
    "    b=int(input(\"Enter No.2=\"))\n",
    "    print(\"Multiplication=\",a*b)\n",
    "def div():\n",
    "    a=int(input(\"Enter No.1=\"))\n",
    "    b=int(input(\"Enter No.2=\"))\n",
    "    print(\"Divide=\",a//b)\n",
    "print(\"Please Enter Your Option:\")\n",
    "print(\"\"\"Option:\n",
    "1. Add:\n",
    "2. Subtract:\n",
    "3. Multiplication:\n",
    "4. Divide:\"\"\")\n",
    "o=int(input(\"Enter Option=\"))\n",
    "if o==1:\n",
    "    add()\n",
    "elif o==2:\n",
    "    sub()\n",
    "elif o==3:\n",
    "    mul()\n",
    "elif o==4:\n",
    "    div()\n",
    "else:\n",
    "    print(\"Invalid Option:\")"
   ]
  }
 ],
 "metadata": {
  "kernelspec": {
   "display_name": "Python 3 (ipykernel)",
   "language": "python",
   "name": "python3"
  },
  "language_info": {
   "codemirror_mode": {
    "name": "ipython",
    "version": 3
   },
   "file_extension": ".py",
   "mimetype": "text/x-python",
   "name": "python",
   "nbconvert_exporter": "python",
   "pygments_lexer": "ipython3",
   "version": "3.9.12"
  }
 },
 "nbformat": 4,
 "nbformat_minor": 5
}
