{
 "cells": [
  {
   "cell_type": "markdown",
   "id": "0c78ff18",
   "metadata": {},
   "source": [
    "# Write a program to concate a 2 list and make a single list with index wise."
   ]
  },
  {
   "cell_type": "code",
   "execution_count": 1,
   "id": "61b7d227",
   "metadata": {},
   "outputs": [],
   "source": [
    "l=[\"M\",\"na\",\"i\",\"Hri\"]\n",
    "l1=[\"y\",\"me\",\"s\",\"tik\"]"
   ]
  },
  {
   "cell_type": "code",
   "execution_count": 2,
   "id": "a50e660c",
   "metadata": {},
   "outputs": [
    {
     "data": {
      "text/plain": [
       "['My', 'name', 'is', 'Hritik']"
      ]
     },
     "execution_count": 2,
     "metadata": {},
     "output_type": "execute_result"
    }
   ],
   "source": [
    "x=[]\n",
    "for i,j in zip(l,l1):\n",
    "    x.append(i+j)\n",
    "x"
   ]
  },
  {
   "cell_type": "code",
   "execution_count": 4,
   "id": "856b7484",
   "metadata": {},
   "outputs": [
    {
     "data": {
      "text/plain": [
       "['My1', 'name2', 'is3', 'Hritik4']"
      ]
     },
     "execution_count": 4,
     "metadata": {},
     "output_type": "execute_result"
    }
   ],
   "source": [
    "l2=[\"1\",\"2\",\"3\",\"4\"]\n",
    "y=[]\n",
    "for i,j,k in zip(l,l1,l2):\n",
    "    y.append(i+j+k)\n",
    "y"
   ]
  }
 ],
 "metadata": {
  "kernelspec": {
   "display_name": "Python 3 (ipykernel)",
   "language": "python",
   "name": "python3"
  },
  "language_info": {
   "codemirror_mode": {
    "name": "ipython",
    "version": 3
   },
   "file_extension": ".py",
   "mimetype": "text/x-python",
   "name": "python",
   "nbconvert_exporter": "python",
   "pygments_lexer": "ipython3",
   "version": "3.9.12"
  }
 },
 "nbformat": 4,
 "nbformat_minor": 5
}
