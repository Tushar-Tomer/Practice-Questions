{
 "cells": [
  {
   "cell_type": "markdown",
   "id": "677178ce",
   "metadata": {},
   "source": [
    "# Write a program whether the given list of number is lucky or unlucky. A lucky list contians at least one number is divisible by 7."
   ]
  },
  {
   "cell_type": "code",
   "execution_count": 6,
   "id": "e4546e50",
   "metadata": {},
   "outputs": [
    {
     "name": "stdout",
     "output_type": "stream",
     "text": [
      "The given list is lucky\n"
     ]
    }
   ],
   "source": [
    "l=[12,14,34,21,78,67,90,145]\n",
    "count=0\n",
    "for i in l:\n",
    "    if(i%7==0):\n",
    "        count= count+1\n",
    "if(count>=1):\n",
    "    print(\"The given list is lucky\")\n",
    "else:\n",
    "    print(\"Given list is unlucky\")"
   ]
  },
  {
   "cell_type": "code",
   "execution_count": 5,
   "id": "2774dc61",
   "metadata": {},
   "outputs": [
    {
     "name": "stdout",
     "output_type": "stream",
     "text": [
      "Given list is unlucky\n"
     ]
    }
   ],
   "source": [
    "l=[12,18,34,22,78,67,90,145]\n",
    "count=0\n",
    "for i in l:\n",
    "    if(i%7==0):\n",
    "        count= count+1\n",
    "if(count>=1):\n",
    "    print(\"The given list is lucky\")\n",
    "else:\n",
    "    print(\"Given list is unlucky\")"
   ]
  }
 ],
 "metadata": {
  "kernelspec": {
   "display_name": "Python 3 (ipykernel)",
   "language": "python",
   "name": "python3"
  },
  "language_info": {
   "codemirror_mode": {
    "name": "ipython",
    "version": 3
   },
   "file_extension": ".py",
   "mimetype": "text/x-python",
   "name": "python",
   "nbconvert_exporter": "python",
   "pygments_lexer": "ipython3",
   "version": "3.9.12"
  }
 },
 "nbformat": 4,
 "nbformat_minor": 5
}
