{
 "cells": [
  {
   "cell_type": "markdown",
   "id": "b4d355fe",
   "metadata": {},
   "source": [
    "# Write a program to print fizz if number is  divisible by 3 if it is divisible by 5 print buzz if divisible by both 3 and 5 print fizzbuss else print number : range of the numbers is from 2000 to 3200"
   ]
  },
  {
   "cell_type": "code",
   "execution_count": 1,
   "id": "6e7c6034",
   "metadata": {},
   "outputs": [
    {
     "name": "stdout",
     "output_type": "stream",
     "text": [
      "buzz\n",
      "fizz\n",
      "2002\n",
      "2003\n",
      "fizz\n",
      "buzz\n",
      "2006\n",
      "fizz\n",
      "2008\n",
      "2009\n"
     ]
    }
   ],
   "source": [
    "for i in range(2000,2010):\n",
    "    #if(i%3==0 and i%5==0):\n",
    "        #print(\"fizzbuzz\")\n",
    "    if(i%3==0):\n",
    "        print(\"fizz\")\n",
    "    elif(i%5==0):\n",
    "        print(\"buzz\")  \n",
    "    elif(i%3==0 and i%5==0):\n",
    "        print(\"fizzbuzz\")\n",
    "    else:\n",
    "        print(i)"
   ]
  }
 ],
 "metadata": {
  "kernelspec": {
   "display_name": "Python 3 (ipykernel)",
   "language": "python",
   "name": "python3"
  },
  "language_info": {
   "codemirror_mode": {
    "name": "ipython",
    "version": 3
   },
   "file_extension": ".py",
   "mimetype": "text/x-python",
   "name": "python",
   "nbconvert_exporter": "python",
   "pygments_lexer": "ipython3",
   "version": "3.9.12"
  }
 },
 "nbformat": 4,
 "nbformat_minor": 5
}
