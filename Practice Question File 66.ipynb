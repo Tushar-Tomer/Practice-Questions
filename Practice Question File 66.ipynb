{
 "cells": [
  {
   "cell_type": "markdown",
   "id": "65a7c8ff",
   "metadata": {},
   "source": [
    "# Given two strings, s1 and s2, write a program to return a new string made of s1 and s2's first , middle and last character.\n",
    "# Given:\n",
    "## s1=\"America\"\n",
    "## s2=\"Japan\"\n",
    "# Output:\n",
    "# \"AJrpan\""
   ]
  },
  {
   "cell_type": "code",
   "execution_count": 21,
   "id": "81b5f511",
   "metadata": {},
   "outputs": [
    {
     "data": {
      "text/plain": [
       "'AJrpan'"
      ]
     },
     "execution_count": 21,
     "metadata": {},
     "output_type": "execute_result"
    }
   ],
   "source": [
    "s3=\"\"\n",
    "s1=\"America\"\n",
    "s2=\"Japan\"\n",
    "s3=s1[0]+s2[0]\n",
    "x=int(len(s1)/2)\n",
    "y=int(len(s2)/2)\n",
    "s3=s3+s1[x]+s2[y]+s1[-1]+s2[-1]\n",
    "s3"
   ]
  }
 ],
 "metadata": {
  "kernelspec": {
   "display_name": "Python 3 (ipykernel)",
   "language": "python",
   "name": "python3"
  },
  "language_info": {
   "codemirror_mode": {
    "name": "ipython",
    "version": 3
   },
   "file_extension": ".py",
   "mimetype": "text/x-python",
   "name": "python",
   "nbconvert_exporter": "python",
   "pygments_lexer": "ipython3",
   "version": "3.9.12"
  }
 },
 "nbformat": 4,
 "nbformat_minor": 5
}
