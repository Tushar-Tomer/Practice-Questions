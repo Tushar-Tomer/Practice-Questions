{
 "cells": [
  {
   "cell_type": "markdown",
   "id": "2c6da9bc",
   "metadata": {},
   "source": [
    "# How we can read and write anything in the file?"
   ]
  },
  {
   "cell_type": "code",
   "execution_count": 1,
   "id": "55f4d2b0",
   "metadata": {},
   "outputs": [
    {
     "name": "stdout",
     "output_type": "stream",
     "text": [
      "Anything=Artificial Intelligence (AI) stands at the forefront of technological innovation, representing a field that seeks to imbue machines with the ability to simulate human intelligence. This interdisciplinary domain integrates computer science, mathematics, neuroscience, and engineering to create intelligent systems capable of learning, reasoning, problem-solving, and adapting to new information. AI manifests in various forms, from machine learning algorithms that discern patterns in data to advanced robotics with the ability to perceive and interact with their environment. The pursuit of AI is driven by the desire to automate tasks traditionally requiring human intelligence, enhancing efficiency and enabling breakthroughs in fields like healthcare, finance, education, and more. However, it also raises ethical considerations, such as privacy concerns, job displacement, and the potential for biased decision-making. As AI continues to evolve, the balance between technological advancement and ethical responsibility becomes paramount, emphasizing the need for thoughtful development and regulation to ensure the positive impact of AI on society.\n",
      "Write Successfully:\n"
     ]
    }
   ],
   "source": [
    "a=input(\"Anything=\")\n",
    "f=open(\"text_file.txt\",\"w\")\n",
    "f.write(a)\n",
    "print(\"Write Successfully:\")\n",
    "f.close()"
   ]
  },
  {
   "cell_type": "code",
   "execution_count": 2,
   "id": "61bfdf0f",
   "metadata": {},
   "outputs": [
    {
     "name": "stdout",
     "output_type": "stream",
     "text": [
      "Artificial Intelligence (AI) stands at the forefront of technological innovation, representing a field that seeks to imbue machines with the ability to simulate human intelligence. This interdisciplinary domain integrates computer science, mathematics, neuroscience, and engineering to create intelligent systems capable of learning, reasoning, problem-solving, and adapting to new information. AI manifests in various forms, from machine learning algorithms that discern patterns in data to advanced robotics with the ability to perceive and interact with their environment. The pursuit of AI is driven by the desire to automate tasks traditionally requiring human intelligence, enhancing efficiency and enabling breakthroughs in fields like healthcare, finance, education, and more. However, it also raises ethical considerations, such as privacy concerns, job displacement, and the potential for biased decision-making. As AI continues to evolve, the balance between technological advancement and ethical responsibility becomes paramount, emphasizing the need for thoughtful development and regulation to ensure the positive impact of AI on society.\n"
     ]
    }
   ],
   "source": [
    "f=open(\"text_file.txt\",\"r\")\n",
    "print(f.read())\n",
    "f.close()"
   ]
  }
 ],
 "metadata": {
  "kernelspec": {
   "display_name": "Python 3 (ipykernel)",
   "language": "python",
   "name": "python3"
  },
  "language_info": {
   "codemirror_mode": {
    "name": "ipython",
    "version": 3
   },
   "file_extension": ".py",
   "mimetype": "text/x-python",
   "name": "python",
   "nbconvert_exporter": "python",
   "pygments_lexer": "ipython3",
   "version": "3.9.12"
  }
 },
 "nbformat": 4,
 "nbformat_minor": 5
}
