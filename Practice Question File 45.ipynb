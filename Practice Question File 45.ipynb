{
 "cells": [
  {
   "cell_type": "markdown",
   "id": "5e0e06c8",
   "metadata": {},
   "source": [
    "# Write a program to create a file and write some line in the file and after writing the lines open the file and add .(dot) all the end of the line."
   ]
  },
  {
   "cell_type": "code",
   "execution_count": null,
   "id": "528e652b",
   "metadata": {},
   "outputs": [],
   "source": [
    "# Add .(dot) all the end of the line"
   ]
  },
  {
   "cell_type": "code",
   "execution_count": 5,
   "id": "9eba73d0",
   "metadata": {},
   "outputs": [],
   "source": [
    "f=open(\"text_code.txt\",\"w\")\n",
    "f.write(\"Hritik is a very intelligent boy\\n\")\n",
    "f.write(\"Hello Hritik\\n\")\n",
    "f.write(\"Tell me about your self\\n\")\n",
    "f.write(\"Tell me your hobby\\n\")\n",
    "f.close()"
   ]
  },
  {
   "cell_type": "code",
   "execution_count": 2,
   "id": "4af6e047",
   "metadata": {},
   "outputs": [
    {
     "data": {
      "text/plain": [
       "['Hritik is a very intelligent boy\\n',\n",
       " 'Hello Hritik\\n',\n",
       " 'Tell me about your self\\n',\n",
       " 'Tell me your hobby\\n']"
      ]
     },
     "execution_count": 2,
     "metadata": {},
     "output_type": "execute_result"
    }
   ],
   "source": [
    "read=open(\"text_code.txt\",\"r\")\n",
    "l=read.readlines()\n",
    "l"
   ]
  },
  {
   "cell_type": "code",
   "execution_count": 6,
   "id": "c266bf9e",
   "metadata": {},
   "outputs": [
    {
     "name": "stdout",
     "output_type": "stream",
     "text": [
      "['Hritik is a very intelligent boy\\n', 'Hello Hritik\\n', 'Tell me about your self\\n', 'Tell me your hobby\\n']\n",
      "['\\nAfter adding the dot in the last.\\n', 'Hritik is a very intelligent boy.', 'Hello Hritik.', 'Tell me about your self.', 'Tell me your hobby.']\n"
     ]
    }
   ],
   "source": [
    "p=[]\n",
    "p.append(\"\\nAfter adding the dot in the last.\\n\")\n",
    "f=open(\"text_code.txt\",\"r+\")\n",
    "l=f.readlines()\n",
    "print(l)\n",
    "for i in l:\n",
    "    a=i.replace(\"\\n\",\".\")\n",
    "    p.append(a)\n",
    "print(p)\n",
    "x=p\n",
    "for j in x:\n",
    "     f.write(j+\"\\n\")\n",
    "f.close()"
   ]
  },
  {
   "cell_type": "code",
   "execution_count": 7,
   "id": "319734f3",
   "metadata": {},
   "outputs": [
    {
     "data": {
      "text/plain": [
       "['Hritik is a very intelligent boy\\n',\n",
       " 'Hello Hritik\\n',\n",
       " 'Tell me about your self\\n',\n",
       " 'Tell me your hobby\\n',\n",
       " '\\n',\n",
       " 'After adding the dot in the last.\\n',\n",
       " '\\n',\n",
       " 'Hritik is a very intelligent boy.\\n',\n",
       " 'Hello Hritik.\\n',\n",
       " 'Tell me about your self.\\n',\n",
       " 'Tell me your hobby.\\n']"
      ]
     },
     "execution_count": 7,
     "metadata": {},
     "output_type": "execute_result"
    }
   ],
   "source": [
    "x=open(\"text_code.txt\",\"r\")\n",
    "y=x.readlines()\n",
    "y"
   ]
  }
 ],
 "metadata": {
  "kernelspec": {
   "display_name": "Python 3 (ipykernel)",
   "language": "python",
   "name": "python3"
  },
  "language_info": {
   "codemirror_mode": {
    "name": "ipython",
    "version": 3
   },
   "file_extension": ".py",
   "mimetype": "text/x-python",
   "name": "python",
   "nbconvert_exporter": "python",
   "pygments_lexer": "ipython3",
   "version": "3.9.12"
  }
 },
 "nbformat": 4,
 "nbformat_minor": 5
}
