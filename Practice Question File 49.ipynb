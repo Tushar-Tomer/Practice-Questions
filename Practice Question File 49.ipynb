{
 "cells": [
  {
   "cell_type": "markdown",
   "id": "1765b8df",
   "metadata": {},
   "source": [
    "# Task 1. Add the food items in the file.\n",
    "# Task 2. Find the longest food item presnt in the file."
   ]
  },
  {
   "cell_type": "code",
   "execution_count": 18,
   "id": "4aa8dc09",
   "metadata": {},
   "outputs": [
    {
     "name": "stdout",
     "output_type": "stream",
     "text": [
      "Enter the no. of food=4\n",
      "Enter the food=Burger\n",
      "Enter the food=Pizza\n",
      "Enter the food=Sandwitch\n",
      "Enter the food=Noodles\n"
     ]
    }
   ],
   "source": [
    "f=open(\"food_task.txt\",\"w\")\n",
    "n=int(input(\"Enter the no. of food=\"))\n",
    "for i in range(1,n+1):\n",
    "    a=input(\"Enter the food=\")\n",
    "    f.write(a+\"\\n\")\n",
    "f.close()"
   ]
  },
  {
   "cell_type": "code",
   "execution_count": 28,
   "id": "ed834264",
   "metadata": {},
   "outputs": [
    {
     "name": "stdout",
     "output_type": "stream",
     "text": [
      "Sandwitch\n",
      "\n"
     ]
    }
   ],
   "source": [
    "n=0\n",
    "f=open(\"food_task.txt\",\"r+\")\n",
    "for i in f:\n",
    "    a=len(i)\n",
    "    if a>n:\n",
    "        m=i\n",
    "        n=a\n",
    "print(m)\n",
    "f.close()"
   ]
  }
 ],
 "metadata": {
  "kernelspec": {
   "display_name": "Python 3 (ipykernel)",
   "language": "python",
   "name": "python3"
  },
  "language_info": {
   "codemirror_mode": {
    "name": "ipython",
    "version": 3
   },
   "file_extension": ".py",
   "mimetype": "text/x-python",
   "name": "python",
   "nbconvert_exporter": "python",
   "pygments_lexer": "ipython3",
   "version": "3.9.12"
  }
 },
 "nbformat": 4,
 "nbformat_minor": 5
}
