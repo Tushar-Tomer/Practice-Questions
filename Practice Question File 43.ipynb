{
 "cells": [
  {
   "cell_type": "markdown",
   "id": "af21ec91",
   "metadata": {},
   "source": [
    "# How we can create and write anything in the file? "
   ]
  },
  {
   "cell_type": "code",
   "execution_count": 1,
   "id": "a223ed60",
   "metadata": {},
   "outputs": [],
   "source": [
    "f=open(\"tushar.txt\",\"w\")\n",
    "f.write(\"Tushar Tomer is a very good boy.\")\n",
    "f.close()"
   ]
  }
 ],
 "metadata": {
  "kernelspec": {
   "display_name": "Python 3 (ipykernel)",
   "language": "python",
   "name": "python3"
  },
  "language_info": {
   "codemirror_mode": {
    "name": "ipython",
    "version": 3
   },
   "file_extension": ".py",
   "mimetype": "text/x-python",
   "name": "python",
   "nbconvert_exporter": "python",
   "pygments_lexer": "ipython3",
   "version": "3.9.12"
  }
 },
 "nbformat": 4,
 "nbformat_minor": 5
}
