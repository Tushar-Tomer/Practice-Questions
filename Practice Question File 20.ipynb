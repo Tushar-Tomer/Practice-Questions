{
 "cells": [
  {
   "cell_type": "markdown",
   "id": "57d6e0b1",
   "metadata": {},
   "source": [
    "# Q- Write a program to find the factorial of the number entered by user: fact of 0 is 1 fact of 1 is 1"
   ]
  },
  {
   "cell_type": "code",
   "execution_count": 2,
   "id": "fa456f53",
   "metadata": {},
   "outputs": [
    {
     "name": "stdout",
     "output_type": "stream",
     "text": [
      "Enter the number = 0\n",
      "Factorial of  0 is  1\n"
     ]
    }
   ],
   "source": [
    "number=int(input(\"Enter the number = \"))\n",
    "\n",
    "if(number==0 or number==1):\n",
    "    print(\"Factorial of \", number, \"is \" , 1)\n",
    "elif(number<0):\n",
    "    print(\"Factorial of negative number cant be exist :\")\n",
    "else:\n",
    "    fact=1\n",
    "    for i in range(1,number+1):\n",
    "        fact=fact*i\n",
    "    print(\"Factorial of \", number , \"is \", fact)"
   ]
  },
  {
   "cell_type": "code",
   "execution_count": 3,
   "id": "fc503d12",
   "metadata": {},
   "outputs": [
    {
     "name": "stdout",
     "output_type": "stream",
     "text": [
      "Enter the number = 1\n",
      "Factorial of  1 is  1\n"
     ]
    }
   ],
   "source": [
    "number=int(input(\"Enter the number = \"))\n",
    "\n",
    "if(number==0 or number==1):\n",
    "    print(\"Factorial of \", number, \"is \" , 1)\n",
    "elif(number<0):\n",
    "    print(\"Factorial of negative number cant be exist :\")\n",
    "else:\n",
    "    fact=1\n",
    "    for i in range(1,number+1):\n",
    "        fact=fact*i\n",
    "    print(\"Factorial of \", number , \"is \", fact)"
   ]
  },
  {
   "cell_type": "code",
   "execution_count": 4,
   "id": "8c1e9911",
   "metadata": {},
   "outputs": [
    {
     "name": "stdout",
     "output_type": "stream",
     "text": [
      "Enter the number = 10\n",
      "Factorial of  10 is  3628800\n"
     ]
    }
   ],
   "source": [
    "number=int(input(\"Enter the number = \"))\n",
    "\n",
    "if(number==0 or number==1):\n",
    "    print(\"Factorial of \", number, \"is \" , 1)\n",
    "elif(number<0):\n",
    "    print(\"Factorial of negative number cant be exist :\")\n",
    "else:\n",
    "    fact=1\n",
    "    for i in range(1,number+1):\n",
    "        fact=fact*i\n",
    "    print(\"Factorial of \", number , \"is \", fact)"
   ]
  },
  {
   "cell_type": "code",
   "execution_count": 5,
   "id": "d3ca239c",
   "metadata": {},
   "outputs": [
    {
     "name": "stdout",
     "output_type": "stream",
     "text": [
      "Enter the number = 4\n",
      "Factorial of  4 is  24\n"
     ]
    }
   ],
   "source": [
    "number=int(input(\"Enter the number = \"))\n",
    "\n",
    "if(number==0 or number==1):\n",
    "    print(\"Factorial of \", number, \"is \" , 1)\n",
    "elif(number<0):\n",
    "    print(\"Factorial of negative number cant be exist :\")\n",
    "else:\n",
    "    fact=1\n",
    "    for i in range(1,number+1):\n",
    "        fact=fact*i\n",
    "    print(\"Factorial of \", number , \"is \", fact)"
   ]
  }
 ],
 "metadata": {
  "kernelspec": {
   "display_name": "Python 3 (ipykernel)",
   "language": "python",
   "name": "python3"
  },
  "language_info": {
   "codemirror_mode": {
    "name": "ipython",
    "version": 3
   },
   "file_extension": ".py",
   "mimetype": "text/x-python",
   "name": "python",
   "nbconvert_exporter": "python",
   "pygments_lexer": "ipython3",
   "version": "3.9.12"
  }
 },
 "nbformat": 4,
 "nbformat_minor": 5
}
