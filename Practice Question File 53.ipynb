{
 "cells": [
  {
   "cell_type": "markdown",
   "id": "62d0c98f",
   "metadata": {},
   "source": [
    "# Write a function to check whether the fruit name startswith \"A\" without lambda or with lambda"
   ]
  },
  {
   "cell_type": "code",
   "execution_count": 8,
   "id": "53bebaac",
   "metadata": {},
   "outputs": [],
   "source": [
    "def fruit_check(fruit):\n",
    "    if fruit.startswith(\"A\"):\n",
    "        print(fruit)\n",
    "    else:\n",
    "        print(\"It's not starts with A:\")\n"
   ]
  },
  {
   "cell_type": "code",
   "execution_count": 9,
   "id": "dc14c5b1",
   "metadata": {},
   "outputs": [
    {
     "name": "stdout",
     "output_type": "stream",
     "text": [
      "Apple\n"
     ]
    }
   ],
   "source": [
    "fruit_check(\"Apple\")"
   ]
  },
  {
   "cell_type": "code",
   "execution_count": 10,
   "id": "06092bfa",
   "metadata": {},
   "outputs": [
    {
     "name": "stdout",
     "output_type": "stream",
     "text": [
      "It's not starts with A:\n"
     ]
    }
   ],
   "source": [
    "fruit_check(\"Mango\")"
   ]
  },
  {
   "cell_type": "markdown",
   "id": "f3397a32",
   "metadata": {},
   "source": [
    "# Use lambda"
   ]
  },
  {
   "cell_type": "code",
   "execution_count": 11,
   "id": "e15d0266",
   "metadata": {},
   "outputs": [
    {
     "data": {
      "text/plain": [
       "'Apple'"
      ]
     },
     "execution_count": 11,
     "metadata": {},
     "output_type": "execute_result"
    }
   ],
   "source": [
    "(lambda fruit: fruit if fruit.startswith(\"A\") else \"\")(\"Apple\")"
   ]
  },
  {
   "cell_type": "code",
   "execution_count": 13,
   "id": "9a6b48d8",
   "metadata": {},
   "outputs": [
    {
     "data": {
      "text/plain": [
       "\"It's not starts with A:\""
      ]
     },
     "execution_count": 13,
     "metadata": {},
     "output_type": "execute_result"
    }
   ],
   "source": [
    "(lambda fruit: fruit if fruit.startswith(\"A\") else \"It's not starts with A:\")(\"Mango\")"
   ]
  }
 ],
 "metadata": {
  "kernelspec": {
   "display_name": "Python 3 (ipykernel)",
   "language": "python",
   "name": "python3"
  },
  "language_info": {
   "codemirror_mode": {
    "name": "ipython",
    "version": 3
   },
   "file_extension": ".py",
   "mimetype": "text/x-python",
   "name": "python",
   "nbconvert_exporter": "python",
   "pygments_lexer": "ipython3",
   "version": "3.9.12"
  }
 },
 "nbformat": 4,
 "nbformat_minor": 5
}
