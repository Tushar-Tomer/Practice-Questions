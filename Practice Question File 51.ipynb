{
 "cells": [
  {
   "cell_type": "markdown",
   "id": "1f2791f9",
   "metadata": {},
   "source": [
    "# Write a program to print those name whose length is less."
   ]
  },
  {
   "cell_type": "code",
   "execution_count": 1,
   "id": "82251084",
   "metadata": {},
   "outputs": [
    {
     "data": {
      "text/plain": [
       "'Raj'"
      ]
     },
     "execution_count": 1,
     "metadata": {},
     "output_type": "execute_result"
    }
   ],
   "source": [
    "l=[\"Mahesh\",\"Raj\",\"Soha\",\"Himanshu\",\"Rohan\"]\n",
    "x=len(l[0])\n",
    "for i in l:\n",
    "    z=len(i)\n",
    "    if z<x:\n",
    "        y=i\n",
    "        x=z\n",
    "y"
   ]
  }
 ],
 "metadata": {
  "kernelspec": {
   "display_name": "Python 3 (ipykernel)",
   "language": "python",
   "name": "python3"
  },
  "language_info": {
   "codemirror_mode": {
    "name": "ipython",
    "version": 3
   },
   "file_extension": ".py",
   "mimetype": "text/x-python",
   "name": "python",
   "nbconvert_exporter": "python",
   "pygments_lexer": "ipython3",
   "version": "3.9.12"
  }
 },
 "nbformat": 4,
 "nbformat_minor": 5
}
