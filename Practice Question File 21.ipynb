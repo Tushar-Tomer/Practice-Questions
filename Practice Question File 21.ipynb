{
 "cells": [
  {
   "cell_type": "code",
   "execution_count": null,
   "id": "6a78d0fb",
   "metadata": {},
   "outputs": [],
   "source": [
    "'''Write a program to print this pattern :\n",
    "    *\n",
    "    * *\n",
    "    * * *\n",
    "    * * * * \n",
    "    * * * *'''"
   ]
  },
  {
   "cell_type": "code",
   "execution_count": 3,
   "id": "0e50e153",
   "metadata": {},
   "outputs": [
    {
     "name": "stdout",
     "output_type": "stream",
     "text": [
      "Enter the number of rows for pattern = 10\n",
      "*  \n",
      "* *  \n",
      "* * *  \n",
      "* * * *  \n",
      "* * * * *  \n",
      "* * * * * *  \n",
      "* * * * * * *  \n",
      "* * * * * * * *  \n",
      "* * * * * * * * *  \n",
      "* * * * * * * * * *  \n"
     ]
    }
   ],
   "source": [
    "num_r= int(input(\"Enter the number of rows for pattern = \"))\n",
    "for i in range(1,num_r+1):\n",
    "    for j in range(1,i+1):\n",
    "        print(\"*\",end = \" \")\n",
    "    print(\" \")\n",
    "    "
   ]
  },
  {
   "cell_type": "code",
   "execution_count": null,
   "id": "4d661861",
   "metadata": {},
   "outputs": [],
   "source": [
    "''' Write a program to print this pattern :\n",
    "    *****\n",
    "    ****\n",
    "    ***\n",
    "    **\n",
    "    *\n",
    "    '''"
   ]
  },
  {
   "cell_type": "code",
   "execution_count": 4,
   "id": "effbdd10",
   "metadata": {},
   "outputs": [
    {
     "name": "stdout",
     "output_type": "stream",
     "text": [
      "Enter the number of rows for pattern = 10\n",
      "*   *   *   *   *   *   *   *   *   *    \n",
      "*   *   *   *   *   *   *   *   *    \n",
      "*   *   *   *   *   *   *   *    \n",
      "*   *   *   *   *   *   *    \n",
      "*   *   *   *   *   *    \n",
      "*   *   *   *   *    \n",
      "*   *   *   *    \n",
      "*   *   *    \n",
      "*   *    \n",
      "*    \n"
     ]
    }
   ],
   "source": [
    "num_r= int(input(\"Enter the number of rows for pattern = \"))\n",
    "m=num_r\n",
    "for i in range(1,num_r+1):\n",
    "    for j in range(1,m+1):\n",
    "        print(\"*\",\" \", end=\" \")\n",
    "    m=m-1\n",
    "    print(\" \")"
   ]
  }
 ],
 "metadata": {
  "kernelspec": {
   "display_name": "Python 3 (ipykernel)",
   "language": "python",
   "name": "python3"
  },
  "language_info": {
   "codemirror_mode": {
    "name": "ipython",
    "version": 3
   },
   "file_extension": ".py",
   "mimetype": "text/x-python",
   "name": "python",
   "nbconvert_exporter": "python",
   "pygments_lexer": "ipython3",
   "version": "3.9.12"
  }
 },
 "nbformat": 4,
 "nbformat_minor": 5
}
