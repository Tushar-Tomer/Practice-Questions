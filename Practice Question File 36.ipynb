{
 "cells": [
  {
   "cell_type": "markdown",
   "id": "1f28acc2",
   "metadata": {},
   "source": [
    "# Enter a number from a user and create a matrix."
   ]
  },
  {
   "cell_type": "code",
   "execution_count": 2,
   "id": "4f7ba4ea",
   "metadata": {},
   "outputs": [
    {
     "name": "stdout",
     "output_type": "stream",
     "text": [
      "Emter i = 5\n",
      "Enter j = 5\n",
      "Enter a = 0\n",
      "Enter a = 1\n",
      "Enter a = 1\n",
      "Enter a = 1\n",
      "Enter a = 1\n",
      "Enter a = 1\n",
      "Enter a = 0\n",
      "Enter a = 1\n",
      "Enter a = 1\n",
      "Enter a = 1\n",
      "Enter a = 1\n",
      "Enter a = 1\n",
      "Enter a = 0\n",
      "Enter a = 1\n",
      "Enter a = 1\n",
      "Enter a = 1\n",
      "Enter a = 1\n",
      "Enter a = 1\n",
      "Enter a = 0\n",
      "Enter a = 1\n",
      "Enter a = 1\n",
      "Enter a = 1\n",
      "Enter a = 1\n",
      "Enter a = 1\n",
      "Enter a = 0\n"
     ]
    },
    {
     "data": {
      "text/plain": [
       "array([[0, 1, 1, 1, 1],\n",
       "       [1, 0, 1, 1, 1],\n",
       "       [1, 1, 0, 1, 1],\n",
       "       [1, 1, 1, 0, 1],\n",
       "       [1, 1, 1, 1, 0]])"
      ]
     },
     "execution_count": 2,
     "metadata": {},
     "output_type": "execute_result"
    }
   ],
   "source": [
    "import numpy as np\n",
    "L=[]\n",
    "i=int(input('Emter i = '))\n",
    "j=int(input('Enter j = '))\n",
    "size=i*j\n",
    "for i in range(size):\n",
    "    \n",
    "    a=int(input('Enter a = '))\n",
    "    L.append(a)\n",
    "    \n",
    "b=np.array((L),ndmin=2)\n",
    "b.reshape((5,5))\n",
    "\n"
   ]
  }
 ],
 "metadata": {
  "kernelspec": {
   "display_name": "Python 3 (ipykernel)",
   "language": "python",
   "name": "python3"
  },
  "language_info": {
   "codemirror_mode": {
    "name": "ipython",
    "version": 3
   },
   "file_extension": ".py",
   "mimetype": "text/x-python",
   "name": "python",
   "nbconvert_exporter": "python",
   "pygments_lexer": "ipython3",
   "version": "3.9.12"
  }
 },
 "nbformat": 4,
 "nbformat_minor": 5
}
