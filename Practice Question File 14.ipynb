{
 "cells": [
  {
   "cell_type": "markdown",
   "id": "b2c9558b",
   "metadata": {},
   "source": [
    "# Q- Write a python program to get the following output   \n",
    "# 1—–49   \n",
    "   \n",
    "# 2—–48   \n",
    "   \n",
    "# 3—–47   \n",
    "   \n",
    "# . .   \n",
    "   \n",
    "# . .   \n",
    "   \n",
    "# . .   \n",
    "   \n",
    "# 48—–2   \n",
    "   \n",
    "# 49—–1"
   ]
  },
  {
   "cell_type": "code",
   "execution_count": 1,
   "id": "308bba9a",
   "metadata": {},
   "outputs": [
    {
     "name": "stdout",
     "output_type": "stream",
     "text": [
      "1 ---- 49\n",
      "2 ---- 48\n",
      "3 ---- 47\n",
      "4 ---- 46\n",
      "5 ---- 45\n",
      "6 ---- 44\n",
      "7 ---- 43\n",
      "8 ---- 42\n",
      "9 ---- 41\n",
      "10 ---- 40\n",
      "11 ---- 39\n",
      "12 ---- 38\n",
      "13 ---- 37\n",
      "14 ---- 36\n",
      "15 ---- 35\n",
      "16 ---- 34\n",
      "17 ---- 33\n",
      "18 ---- 32\n",
      "19 ---- 31\n",
      "20 ---- 30\n",
      "21 ---- 29\n",
      "22 ---- 28\n",
      "23 ---- 27\n",
      "24 ---- 26\n",
      "25 ---- 25\n",
      "26 ---- 24\n",
      "27 ---- 23\n",
      "28 ---- 22\n",
      "29 ---- 21\n",
      "30 ---- 20\n",
      "31 ---- 19\n",
      "32 ---- 18\n",
      "33 ---- 17\n",
      "34 ---- 16\n",
      "35 ---- 15\n",
      "36 ---- 14\n",
      "37 ---- 13\n",
      "38 ---- 12\n",
      "39 ---- 11\n",
      "40 ---- 10\n",
      "41 ---- 9\n",
      "42 ---- 8\n",
      "43 ---- 7\n",
      "44 ---- 6\n",
      "45 ---- 5\n",
      "46 ---- 4\n",
      "47 ---- 3\n",
      "48 ---- 2\n",
      "49 ---- 1\n"
     ]
    }
   ],
   "source": [
    "k=49\n",
    "for i in range(1,50):\n",
    "    print(i,\"----\",k)\n",
    "    k-=1\n",
    "\n"
   ]
  }
 ],
 "metadata": {
  "kernelspec": {
   "display_name": "Python 3 (ipykernel)",
   "language": "python",
   "name": "python3"
  },
  "language_info": {
   "codemirror_mode": {
    "name": "ipython",
    "version": 3
   },
   "file_extension": ".py",
   "mimetype": "text/x-python",
   "name": "python",
   "nbconvert_exporter": "python",
   "pygments_lexer": "ipython3",
   "version": "3.9.12"
  }
 },
 "nbformat": 4,
 "nbformat_minor": 5
}
