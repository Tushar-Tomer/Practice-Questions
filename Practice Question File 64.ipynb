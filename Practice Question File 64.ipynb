{
 "cells": [
  {
   "cell_type": "markdown",
   "id": "39b39860",
   "metadata": {},
   "source": [
    "# Write a program to count how many alphabet,number and special character in the string."
   ]
  },
  {
   "cell_type": "code",
   "execution_count": 1,
   "id": "64a43893",
   "metadata": {},
   "outputs": [],
   "source": [
    "a=\"Hrit@#22ik&^%*44\""
   ]
  },
  {
   "cell_type": "code",
   "execution_count": 6,
   "id": "6caa43dd",
   "metadata": {},
   "outputs": [
    {
     "name": "stdout",
     "output_type": "stream",
     "text": [
      "The String contain  6  Alphabet and  4  Digit and  6  Symbol.\n"
     ]
    }
   ],
   "source": [
    "Alphabet=0\n",
    "Digit=0\n",
    "Symbol=0\n",
    "for i in a:\n",
    "    if i.isalpha()==True:\n",
    "        Alphabet=Alphabet+1\n",
    "    elif i.isdigit()==True:\n",
    "        Digit=Digit+1\n",
    "    else:\n",
    "        Symbol=Symbol+1\n",
    "print(\"The String contain \",Alphabet,\" Alphabet and \",Digit,\" Digit and \",Symbol,\" Symbol.\")"
   ]
  },
  {
   "cell_type": "code",
   "execution_count": 7,
   "id": "3b6a64dc",
   "metadata": {},
   "outputs": [],
   "source": [
    "a=\"Hrit @# 22 ik &^%* 44 \""
   ]
  },
  {
   "cell_type": "code",
   "execution_count": 8,
   "id": "5e2de57d",
   "metadata": {},
   "outputs": [
    {
     "name": "stdout",
     "output_type": "stream",
     "text": [
      "The String contain  6  Alphabet and  4  Digit and  12  Symbol.\n"
     ]
    }
   ],
   "source": [
    "Alphabet=0\n",
    "Digit=0\n",
    "Symbol=0\n",
    "for i in a:\n",
    "    if i.isalpha()==True:\n",
    "        Alphabet=Alphabet+1\n",
    "    elif i.isdigit()==True:\n",
    "        Digit=Digit+1\n",
    "    else:\n",
    "        Symbol=Symbol+1\n",
    "print(\"The String contain \",Alphabet,\" Alphabet and \",Digit,\" Digit and \",Symbol,\" Symbol.\")"
   ]
  }
 ],
 "metadata": {
  "kernelspec": {
   "display_name": "Python 3 (ipykernel)",
   "language": "python",
   "name": "python3"
  },
  "language_info": {
   "codemirror_mode": {
    "name": "ipython",
    "version": 3
   },
   "file_extension": ".py",
   "mimetype": "text/x-python",
   "name": "python",
   "nbconvert_exporter": "python",
   "pygments_lexer": "ipython3",
   "version": "3.9.12"
  }
 },
 "nbformat": 4,
 "nbformat_minor": 5
}
