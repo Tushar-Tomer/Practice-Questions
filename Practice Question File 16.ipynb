{
 "cells": [
  {
   "cell_type": "markdown",
   "id": "54ca3b9d",
   "metadata": {},
   "source": [
    "# Give the input from the user and make a list of 10 numbers and find smallest and highest number."
   ]
  },
  {
   "cell_type": "code",
   "execution_count": 3,
   "id": "8805b978",
   "metadata": {},
   "outputs": [
    {
     "name": "stdout",
     "output_type": "stream",
     "text": [
      "enter a 44\n",
      "enter a 84\n",
      "enter a 86\n",
      "enter a 97\n",
      "enter a 104\n",
      "enter a 4\n",
      "enter a 55\n",
      "enter a 76\n",
      "enter a 87\n",
      "enter a 26\n",
      "[4, 26, 44, 55, 76, 84, 86, 87, 97, 104]\n",
      "Smallest Number =  4\n",
      "Largest Number =  104\n"
     ]
    }
   ],
   "source": [
    "l=[]\n",
    "for i in range(1,11):\n",
    "    a=int(input('enter a '))\n",
    "    l.append(a)\n",
    "l.sort()\n",
    "print(l)\n",
    "print(\"Smallest Number = \",l[0])\n",
    "print(\"Largest Number = \",l[-1])"
   ]
  }
 ],
 "metadata": {
  "kernelspec": {
   "display_name": "Python 3 (ipykernel)",
   "language": "python",
   "name": "python3"
  },
  "language_info": {
   "codemirror_mode": {
    "name": "ipython",
    "version": 3
   },
   "file_extension": ".py",
   "mimetype": "text/x-python",
   "name": "python",
   "nbconvert_exporter": "python",
   "pygments_lexer": "ipython3",
   "version": "3.9.12"
  }
 },
 "nbformat": 4,
 "nbformat_minor": 5
}
