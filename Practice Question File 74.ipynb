{
 "cells": [
  {
   "cell_type": "markdown",
   "id": "c213c698",
   "metadata": {},
   "source": [
    "# Write a program to remove all characters from a string except intgers.\n",
    "# Given :\n",
    "## str1=\"I am 25 years and 10 month old\""
   ]
  },
  {
   "cell_type": "code",
   "execution_count": 1,
   "id": "5c11767f",
   "metadata": {},
   "outputs": [],
   "source": [
    "str1=\"I am 25 years and 10 month old\""
   ]
  },
  {
   "cell_type": "code",
   "execution_count": 3,
   "id": "db6eefad",
   "metadata": {},
   "outputs": [
    {
     "data": {
      "text/plain": [
       "'2510'"
      ]
     },
     "execution_count": 3,
     "metadata": {},
     "output_type": "execute_result"
    }
   ],
   "source": [
    "s=\"\"\n",
    "for i in str1:\n",
    "    if i.isdigit():\n",
    "        s=s+i\n",
    "s"
   ]
  }
 ],
 "metadata": {
  "kernelspec": {
   "display_name": "Python 3 (ipykernel)",
   "language": "python",
   "name": "python3"
  },
  "language_info": {
   "codemirror_mode": {
    "name": "ipython",
    "version": 3
   },
   "file_extension": ".py",
   "mimetype": "text/x-python",
   "name": "python",
   "nbconvert_exporter": "python",
   "pygments_lexer": "ipython3",
   "version": "3.9.12"
  }
 },
 "nbformat": 4,
 "nbformat_minor": 5
}
