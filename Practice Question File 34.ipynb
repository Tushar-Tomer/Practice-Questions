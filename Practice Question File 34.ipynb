{
 "cells": [
  {
   "cell_type": "markdown",
   "id": "9c4bf916",
   "metadata": {},
   "source": [
    "# Show a difference between local and global variable ."
   ]
  },
  {
   "cell_type": "code",
   "execution_count": 2,
   "id": "3a42b270",
   "metadata": {},
   "outputs": [
    {
     "name": "stdout",
     "output_type": "stream",
     "text": [
      "The global variable before the function = 2000\n",
      "After assigning the global variable = 2001\n",
      "2001\n"
     ]
    }
   ],
   "source": [
    "Money=2000 #global variable\n",
    "\n",
    "def Add_Money():\n",
    "    global Money  #global is used to acces the variable inside the function or to modify it\n",
    "    Money=Money+1\n",
    "\n",
    "\n",
    "print('The global variable before the function =',Money)\n",
    "Add_Money()\n",
    "print('After assigning the global variable =',Money)\n",
    "print(Money)\n"
   ]
  }
 ],
 "metadata": {
  "kernelspec": {
   "display_name": "Python 3 (ipykernel)",
   "language": "python",
   "name": "python3"
  },
  "language_info": {
   "codemirror_mode": {
    "name": "ipython",
    "version": 3
   },
   "file_extension": ".py",
   "mimetype": "text/x-python",
   "name": "python",
   "nbconvert_exporter": "python",
   "pygments_lexer": "ipython3",
   "version": "3.9.12"
  }
 },
 "nbformat": 4,
 "nbformat_minor": 5
}
