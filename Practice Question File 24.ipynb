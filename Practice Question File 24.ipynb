{
 "cells": [
  {
   "cell_type": "markdown",
   "id": "7bc0c494",
   "metadata": {},
   "source": [
    "# Q- Print the unique elements in a given list :\n",
    "# list=[1,2,1,2,1,3,1,4,2,6,2,6,2,6,3,5,2,6,3,6,2,5,5]"
   ]
  },
  {
   "cell_type": "code",
   "execution_count": 1,
   "id": "51c0fea9",
   "metadata": {},
   "outputs": [
    {
     "name": "stdout",
     "output_type": "stream",
     "text": [
      "{1, 2, 3, 4, 5, 6}\n",
      "[1, 2, 3, 4, 5, 6]\n"
     ]
    }
   ],
   "source": [
    "l=[1,2,1,2,1,3,1,4,2,6,2,6,2,6,3,5,2,6,3,6,2,5,5]\n",
    "a=set(l)\n",
    "d=list(a)\n",
    "print(a)\n",
    "print(d)"
   ]
  }
 ],
 "metadata": {
  "kernelspec": {
   "display_name": "Python 3 (ipykernel)",
   "language": "python",
   "name": "python3"
  },
  "language_info": {
   "codemirror_mode": {
    "name": "ipython",
    "version": 3
   },
   "file_extension": ".py",
   "mimetype": "text/x-python",
   "name": "python",
   "nbconvert_exporter": "python",
   "pygments_lexer": "ipython3",
   "version": "3.9.12"
  }
 },
 "nbformat": 4,
 "nbformat_minor": 5
}
