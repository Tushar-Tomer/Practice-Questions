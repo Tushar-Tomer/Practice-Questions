{
 "cells": [
  {
   "cell_type": "markdown",
   "id": "c6288684",
   "metadata": {},
   "source": [
    "# Write a program to find all occurrences of \"USA\" in a given string ignoring the case.\n",
    "\n",
    "# Given :\n",
    "## a=\"Welcome to USA. usa awesome, isn't it?\"\n",
    "\n",
    "# Output :\n",
    "## The USA count is  2 ."
   ]
  },
  {
   "cell_type": "code",
   "execution_count": 4,
   "id": "8e47d3e4",
   "metadata": {},
   "outputs": [
    {
     "name": "stdout",
     "output_type": "stream",
     "text": [
      "The USA count is  2 .\n"
     ]
    }
   ],
   "source": [
    "a=\"Welcome to USA. usa awesome, isn't it?\"\n",
    "b=\"USA\"\n",
    "c=a.lower()\n",
    "d=b.lower()\n",
    "count=c.count(d)\n",
    "print(\"The USA count is \",count,\".\")"
   ]
  }
 ],
 "metadata": {
  "kernelspec": {
   "display_name": "Python 3 (ipykernel)",
   "language": "python",
   "name": "python3"
  },
  "language_info": {
   "codemirror_mode": {
    "name": "ipython",
    "version": 3
   },
   "file_extension": ".py",
   "mimetype": "text/x-python",
   "name": "python",
   "nbconvert_exporter": "python",
   "pygments_lexer": "ipython3",
   "version": "3.9.12"
  }
 },
 "nbformat": 4,
 "nbformat_minor": 5
}
