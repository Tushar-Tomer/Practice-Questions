{
 "cells": [
  {
   "cell_type": "markdown",
   "id": "2168ea20",
   "metadata": {},
   "source": [
    "# Find a factor of given range."
   ]
  },
  {
   "cell_type": "code",
   "execution_count": 1,
   "id": "b2f852a0",
   "metadata": {},
   "outputs": [
    {
     "name": "stdout",
     "output_type": "stream",
     "text": [
      "Enter Starting No.=2\n",
      "Enter Ending No.=10\n",
      "Factor of  2 :\n",
      "1\n",
      "2\n",
      "================================================\n",
      "Factor of  3 :\n",
      "1\n",
      "3\n",
      "================================================\n",
      "Factor of  4 :\n",
      "1\n",
      "2\n",
      "4\n",
      "================================================\n",
      "Factor of  5 :\n",
      "1\n",
      "5\n",
      "================================================\n",
      "Factor of  6 :\n",
      "1\n",
      "2\n",
      "3\n",
      "6\n",
      "================================================\n",
      "Factor of  7 :\n",
      "1\n",
      "7\n",
      "================================================\n",
      "Factor of  8 :\n",
      "1\n",
      "2\n",
      "4\n",
      "8\n",
      "================================================\n",
      "Factor of  9 :\n",
      "1\n",
      "3\n",
      "9\n",
      "================================================\n",
      "Factor of  10 :\n",
      "1\n",
      "2\n",
      "5\n",
      "10\n",
      "================================================\n"
     ]
    }
   ],
   "source": [
    "s=int(input(\"Enter Starting No.=\"))\n",
    "e=int(input(\"Enter Ending No.=\"))\n",
    "for i in range(s,e+1):\n",
    "    print(\"Factor of \",i,\":\")\n",
    "    for j in range(1,i+1):\n",
    "        if i%j==0:\n",
    "            print(j)\n",
    "    print(\"================================================\")"
   ]
  }
 ],
 "metadata": {
  "kernelspec": {
   "display_name": "Python 3 (ipykernel)",
   "language": "python",
   "name": "python3"
  },
  "language_info": {
   "codemirror_mode": {
    "name": "ipython",
    "version": 3
   },
   "file_extension": ".py",
   "mimetype": "text/x-python",
   "name": "python",
   "nbconvert_exporter": "python",
   "pygments_lexer": "ipython3",
   "version": "3.9.12"
  }
 },
 "nbformat": 4,
 "nbformat_minor": 5
}
