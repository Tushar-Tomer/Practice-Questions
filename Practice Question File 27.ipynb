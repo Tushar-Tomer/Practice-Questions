{
 "cells": [
  {
   "cell_type": "markdown",
   "id": "0bb82637",
   "metadata": {},
   "source": [
    "# Q- Create 3 dictionary and add it."
   ]
  },
  {
   "cell_type": "code",
   "execution_count": 1,
   "id": "be814ac4",
   "metadata": {},
   "outputs": [
    {
     "name": "stdout",
     "output_type": "stream",
     "text": [
      "{'Tushar', 'Deepanshu', 'Verma', 'Tomer'}\n",
      "{'Tushar', 'Deepanshu', 'Verma', 'Tomer'}\n",
      "{'Tushar', 'Verma', 'Khanna', 'Deepanshu', 'Karan', 'Tomer'}\n",
      "{'Tushar', 'Verma', 'Khanna', 'Deepanshu', 'Karan', 'Tomer'}\n"
     ]
    }
   ],
   "source": [
    "a={'Tushar','Tomer'}\n",
    "b={'Deepanshu','Verma'}\n",
    "c={'Karan','Khanna'}\n",
    "print(a.union(b))\n",
    "print(a|b)\n",
    "print(a.union(b,c))\n",
    "print(a|b|c)"
   ]
  }
 ],
 "metadata": {
  "kernelspec": {
   "display_name": "Python 3 (ipykernel)",
   "language": "python",
   "name": "python3"
  },
  "language_info": {
   "codemirror_mode": {
    "name": "ipython",
    "version": 3
   },
   "file_extension": ".py",
   "mimetype": "text/x-python",
   "name": "python",
   "nbconvert_exporter": "python",
   "pygments_lexer": "ipython3",
   "version": "3.9.12"
  }
 },
 "nbformat": 4,
 "nbformat_minor": 5
}
