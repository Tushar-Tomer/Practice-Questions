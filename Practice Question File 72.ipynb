{
 "cells": [
  {
   "cell_type": "markdown",
   "id": "2f6de7da",
   "metadata": {},
   "source": [
    "# Write a program to count occurrences of all characters within a string."
   ]
  },
  {
   "cell_type": "code",
   "execution_count": 5,
   "id": "e94f6a78",
   "metadata": {},
   "outputs": [],
   "source": [
    "from collections import Counter"
   ]
  },
  {
   "cell_type": "code",
   "execution_count": 1,
   "id": "fbdcca01",
   "metadata": {},
   "outputs": [],
   "source": [
    "str1=\"Apple\""
   ]
  },
  {
   "cell_type": "code",
   "execution_count": 3,
   "id": "77b85718",
   "metadata": {},
   "outputs": [
    {
     "data": {
      "text/plain": [
       "Counter({'A': 1, 'p': 2, 'l': 1, 'e': 1})"
      ]
     },
     "execution_count": 3,
     "metadata": {},
     "output_type": "execute_result"
    }
   ],
   "source": [
    "Counter(str1)"
   ]
  },
  {
   "cell_type": "code",
   "execution_count": 4,
   "id": "92d549e3",
   "metadata": {},
   "outputs": [
    {
     "data": {
      "text/plain": [
       "{'A': 1, 'p': 2, 'l': 1, 'e': 1}"
      ]
     },
     "execution_count": 4,
     "metadata": {},
     "output_type": "execute_result"
    }
   ],
   "source": [
    "str2=\"Apple\"\n",
    "char_dict=dict()\n",
    "for char in str2:\n",
    "    count=str2.count(char)\n",
    "    char_dict[char]=count\n",
    "char_dict"
   ]
  }
 ],
 "metadata": {
  "kernelspec": {
   "display_name": "Python 3 (ipykernel)",
   "language": "python",
   "name": "python3"
  },
  "language_info": {
   "codemirror_mode": {
    "name": "ipython",
    "version": 3
   },
   "file_extension": ".py",
   "mimetype": "text/x-python",
   "name": "python",
   "nbconvert_exporter": "python",
   "pygments_lexer": "ipython3",
   "version": "3.9.12"
  }
 },
 "nbformat": 4,
 "nbformat_minor": 5
}
