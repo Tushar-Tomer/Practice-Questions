{
 "cells": [
  {
   "cell_type": "markdown",
   "id": "bcba7e9b",
   "metadata": {},
   "source": [
    "# Write a program to return the sum and average of the digits that appears in the string , ignoring all other characters.\n",
    "\n",
    "# Given :\n",
    "## str1=\"PYnative%^29@#!*84&&96\""
   ]
  },
  {
   "cell_type": "code",
   "execution_count": 2,
   "id": "2b63aaa2",
   "metadata": {},
   "outputs": [],
   "source": [
    "str1=\"PYnative%^29@#!*84&&96\""
   ]
  },
  {
   "cell_type": "code",
   "execution_count": 5,
   "id": "33bd1c4f",
   "metadata": {},
   "outputs": [
    {
     "name": "stdout",
     "output_type": "stream",
     "text": [
      "Sum is  38\n",
      "Average is  6.333333333333333\n"
     ]
    }
   ],
   "source": [
    "s=0\n",
    "n=0\n",
    "for i in str1:\n",
    "    if i.isdigit():\n",
    "        x=int(i)\n",
    "        s=s+x\n",
    "        n=n+1\n",
    "print(\"Sum is \",s)\n",
    "print(\"Average is \",s/n)"
   ]
  }
 ],
 "metadata": {
  "kernelspec": {
   "display_name": "Python 3 (ipykernel)",
   "language": "python",
   "name": "python3"
  },
  "language_info": {
   "codemirror_mode": {
    "name": "ipython",
    "version": 3
   },
   "file_extension": ".py",
   "mimetype": "text/x-python",
   "name": "python",
   "nbconvert_exporter": "python",
   "pygments_lexer": "ipython3",
   "version": "3.9.12"
  }
 },
 "nbformat": 4,
 "nbformat_minor": 5
}
