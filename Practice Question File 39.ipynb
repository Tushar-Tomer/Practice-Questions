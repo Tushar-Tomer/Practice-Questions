{
 "cells": [
  {
   "cell_type": "markdown",
   "id": "2fd41c84",
   "metadata": {},
   "source": [
    "# Write a program to give a string from the user and check the string is palindrom or not. Make sure all the code write in one line."
   ]
  },
  {
   "cell_type": "code",
   "execution_count": 3,
   "id": "c4167c92",
   "metadata": {},
   "outputs": [
    {
     "name": "stdout",
     "output_type": "stream",
     "text": [
      "Enter a string = Deepandhu\n",
      "not pallindrome\n"
     ]
    }
   ],
   "source": [
    "x=(lambda string : 'pallindome' if string == string[::-1] else 'not palindrome')(input('Enter a string = '))\n",
    "print(x)"
   ]
  },
  {
   "cell_type": "code",
   "execution_count": 4,
   "id": "dce80d1e",
   "metadata": {},
   "outputs": [
    {
     "name": "stdout",
     "output_type": "stream",
     "text": [
      "Enter a string = naman\n",
      "pallindome\n"
     ]
    }
   ],
   "source": [
    "x=(lambda string : 'pallindome' if string == string[::-1] else 'not pallindrome')(input('Enter a string = '))\n",
    "print(x)"
   ]
  }
 ],
 "metadata": {
  "kernelspec": {
   "display_name": "Python 3 (ipykernel)",
   "language": "python",
   "name": "python3"
  },
  "language_info": {
   "codemirror_mode": {
    "name": "ipython",
    "version": 3
   },
   "file_extension": ".py",
   "mimetype": "text/x-python",
   "name": "python",
   "nbconvert_exporter": "python",
   "pygments_lexer": "ipython3",
   "version": "3.9.12"
  }
 },
 "nbformat": 4,
 "nbformat_minor": 5
}
