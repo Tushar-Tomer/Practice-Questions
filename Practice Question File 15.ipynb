{
 "cells": [
  {
   "cell_type": "markdown",
   "id": "2a644bea",
   "metadata": {},
   "source": [
    "# Write a program to display all the numbers which are divisible by 13 but not by 3 between 100 and 500.(exclusive both numbers)"
   ]
  },
  {
   "cell_type": "code",
   "execution_count": 2,
   "id": "550f8da5",
   "metadata": {},
   "outputs": [
    {
     "name": "stdout",
     "output_type": "stream",
     "text": [
      "104\n",
      "130\n",
      "143\n",
      "169\n",
      "182\n",
      "208\n",
      "221\n",
      "247\n",
      "260\n",
      "286\n",
      "299\n",
      "325\n",
      "338\n",
      "364\n",
      "377\n",
      "403\n",
      "416\n",
      "442\n",
      "455\n",
      "481\n",
      "494\n"
     ]
    }
   ],
   "source": [
    "for i in range(100,501):\n",
    "    if i%13==0 and i%3!=0:\n",
    "        print(i)"
   ]
  }
 ],
 "metadata": {
  "kernelspec": {
   "display_name": "Python 3 (ipykernel)",
   "language": "python",
   "name": "python3"
  },
  "language_info": {
   "codemirror_mode": {
    "name": "ipython",
    "version": 3
   },
   "file_extension": ".py",
   "mimetype": "text/x-python",
   "name": "python",
   "nbconvert_exporter": "python",
   "pygments_lexer": "ipython3",
   "version": "3.9.12"
  }
 },
 "nbformat": 4,
 "nbformat_minor": 5
}
