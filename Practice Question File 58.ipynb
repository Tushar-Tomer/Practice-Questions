{
 "cells": [
  {
   "cell_type": "markdown",
   "id": "99e2ddc7",
   "metadata": {},
   "source": [
    "# Write a program to print two list in the below form:\n",
    "## l1=[10,20,30,40]\n",
    "## l2=[100,200,300,400]\n",
    "# Output :\n",
    "## 10 100\n",
    "## 20 200\n",
    "## 30 300\n",
    "## 40 400"
   ]
  },
  {
   "cell_type": "code",
   "execution_count": 1,
   "id": "69b4b213",
   "metadata": {},
   "outputs": [],
   "source": [
    "l1=[10,20,30,40]\n",
    "l2=[100,200,300,400]"
   ]
  },
  {
   "cell_type": "code",
   "execution_count": 4,
   "id": "46ba7c0e",
   "metadata": {},
   "outputs": [
    {
     "name": "stdout",
     "output_type": "stream",
     "text": [
      "10 100\n",
      "20 200\n",
      "30 300\n",
      "40 400\n"
     ]
    }
   ],
   "source": [
    "for i,j in zip(l1,l2):\n",
    "    print(i,j)"
   ]
  }
 ],
 "metadata": {
  "kernelspec": {
   "display_name": "Python 3 (ipykernel)",
   "language": "python",
   "name": "python3"
  },
  "language_info": {
   "codemirror_mode": {
    "name": "ipython",
    "version": 3
   },
   "file_extension": ".py",
   "mimetype": "text/x-python",
   "name": "python",
   "nbconvert_exporter": "python",
   "pygments_lexer": "ipython3",
   "version": "3.9.12"
  }
 },
 "nbformat": 4,
 "nbformat_minor": 5
}
