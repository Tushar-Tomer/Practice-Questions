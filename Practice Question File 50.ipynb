{
 "cells": [
  {
   "cell_type": "markdown",
   "id": "793252a5",
   "metadata": {},
   "source": [
    "# Write a program to print those name whose length is high."
   ]
  },
  {
   "cell_type": "code",
   "execution_count": 2,
   "id": "644c2547",
   "metadata": {},
   "outputs": [
    {
     "data": {
      "text/plain": [
       "'Himanshu'"
      ]
     },
     "execution_count": 2,
     "metadata": {},
     "output_type": "execute_result"
    }
   ],
   "source": [
    "x=0\n",
    "l=[\"Mahesh\",\"Raj\",\"Soha\",\"Himanshu\",\"Rohan\"]\n",
    "for i in l:\n",
    "    z=len(i)\n",
    "    if z>x:\n",
    "        y=i\n",
    "        x=z\n",
    "y"
   ]
  }
 ],
 "metadata": {
  "kernelspec": {
   "display_name": "Python 3 (ipykernel)",
   "language": "python",
   "name": "python3"
  },
  "language_info": {
   "codemirror_mode": {
    "name": "ipython",
    "version": 3
   },
   "file_extension": ".py",
   "mimetype": "text/x-python",
   "name": "python",
   "nbconvert_exporter": "python",
   "pygments_lexer": "ipython3",
   "version": "3.9.12"
  }
 },
 "nbformat": 4,
 "nbformat_minor": 5
}
