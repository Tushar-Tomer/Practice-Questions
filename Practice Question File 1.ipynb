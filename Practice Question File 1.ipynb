{
 "cells": [
  {
   "cell_type": "markdown",
   "id": "77d6a01e",
   "metadata": {},
   "source": [
    "# Q- When we sum the integers 4 and 12, we get the integer 18.\n",
    "# When we sum the floating-point numbers 4.0 and 4.0, we get 8.0 .\n",
    "# When we concatenate 'HackerRank ' with 'is the best place to learn and practice coding!', we get HackerRank is the best place to learn and practice coding!."
   ]
  },
  {
   "cell_type": "code",
   "execution_count": 4,
   "id": "3091ad04",
   "metadata": {},
   "outputs": [
    {
     "name": "stdout",
     "output_type": "stream",
     "text": [
      "16\n",
      "8.0\n",
      "HackerRank is the best place to learn and practice coding!\n"
     ]
    }
   ],
   "source": [
    "i = 4\n",
    "d = 4.0\n",
    "s = 'HackerRank '\n",
    "a = 12\n",
    "print(i+a)\n",
    "print(d+d)\n",
    "print(s+\"is the best place to learn and practice coding!\")"
   ]
  },
  {
   "cell_type": "code",
   "execution_count": 5,
   "id": "032f0053",
   "metadata": {},
   "outputs": [
    {
     "name": "stdout",
     "output_type": "stream",
     "text": [
      "Enter integer no. = 4\n",
      "Enter decimal no. = 4.4\n",
      "Enter any string = is the best place to learn and practice coding!\n",
      "8\n",
      "8.4\n",
      "HackerRank is the best place to learn and practice coding!\n"
     ]
    }
   ],
   "source": [
    "i = 4\n",
    "d = 4.0\n",
    "s = 'HackerRank '\n",
    "a = int(input(\"Enter integer no. = \"))\n",
    "b = float(input(\"Enter decimal no. = \"))\n",
    "x = input(\"Enter any string = \")\n",
    "print(i+a)\n",
    "print(d+b)\n",
    "print(s+x)"
   ]
  },
  {
   "cell_type": "code",
   "execution_count": null,
   "id": "14b552a1",
   "metadata": {},
   "outputs": [],
   "source": []
  }
 ],
 "metadata": {
  "kernelspec": {
   "display_name": "Python 3 (ipykernel)",
   "language": "python",
   "name": "python3"
  },
  "language_info": {
   "codemirror_mode": {
    "name": "ipython",
    "version": 3
   },
   "file_extension": ".py",
   "mimetype": "text/x-python",
   "name": "python",
   "nbconvert_exporter": "python",
   "pygments_lexer": "ipython3",
   "version": "3.9.12"
  }
 },
 "nbformat": 4,
 "nbformat_minor": 5
}
