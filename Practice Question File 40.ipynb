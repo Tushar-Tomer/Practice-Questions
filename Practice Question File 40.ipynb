{
 "cells": [
  {
   "cell_type": "markdown",
   "id": "3b400ff8",
   "metadata": {},
   "source": [
    "# Write a program to print a list of True or False and another list of Fruits which starts with A character using map and filter function."
   ]
  },
  {
   "cell_type": "code",
   "execution_count": 1,
   "id": "6d86444c",
   "metadata": {},
   "outputs": [
    {
     "name": "stdout",
     "output_type": "stream",
     "text": [
      "[True, False, False, True, False]\n",
      "['Apple', 'Apricot']\n"
     ]
    }
   ],
   "source": [
    "def starts_with_A(s):\n",
    "    return s[0] == \"A\"\n",
    "\n",
    "fruit = [\"Apple\", \"Banana\", \"Pear\", \"Apricot\", \"Orange\"]\n",
    "filter_object = map(starts_with_A, fruit)\n",
    "filter_object1 = filter(starts_with_A, fruit)\n",
    "\n",
    "print(list(filter_object))\n",
    "print(list(filter_object1))"
   ]
  }
 ],
 "metadata": {
  "kernelspec": {
   "display_name": "Python 3 (ipykernel)",
   "language": "python",
   "name": "python3"
  },
  "language_info": {
   "codemirror_mode": {
    "name": "ipython",
    "version": 3
   },
   "file_extension": ".py",
   "mimetype": "text/x-python",
   "name": "python",
   "nbconvert_exporter": "python",
   "pygments_lexer": "ipython3",
   "version": "3.9.12"
  }
 },
 "nbformat": 4,
 "nbformat_minor": 5
}
