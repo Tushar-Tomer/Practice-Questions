{
 "cells": [
  {
   "cell_type": "markdown",
   "id": "b0202a37",
   "metadata": {},
   "source": [
    "# Q- \n",
    "# a='a quick brown fox jumps over the lazy dogs'\n",
    "# remove all space\n",
    "# Answer= abcdefghijklmnopqrstuvwxyz"
   ]
  },
  {
   "cell_type": "code",
   "execution_count": 1,
   "id": "f54d80e6",
   "metadata": {},
   "outputs": [
    {
     "name": "stdout",
     "output_type": "stream",
     "text": [
      "a\n",
      "q\n",
      "u\n",
      "i\n",
      "c\n",
      "k\n",
      "b\n",
      "r\n",
      "o\n",
      "w\n",
      "n\n",
      "f\n",
      "o\n",
      "x\n",
      "j\n",
      "u\n",
      "m\n",
      "p\n",
      "s\n",
      "o\n",
      "v\n",
      "e\n",
      "r\n",
      "t\n",
      "h\n",
      "e\n",
      "l\n",
      "a\n",
      "z\n",
      "y\n",
      "d\n",
      "o\n",
      "g\n",
      "s\n"
     ]
    }
   ],
   "source": [
    "a='a quick brown fox jumps over the lazy dogs'\n",
    "for i in a:\n",
    "    if i==' ':\n",
    "        pass\n",
    "    else:\n",
    "        print(i)"
   ]
  },
  {
   "cell_type": "code",
   "execution_count": 4,
   "id": "cd07ccb2",
   "metadata": {},
   "outputs": [],
   "source": [
    "l=\"\"\n",
    "a='a quick brown fox jumps over the lazy dogs'\n",
    "for i in a:\n",
    "    if i==' ':\n",
    "        pass\n",
    "    else:\n",
    "        l=l+i"
   ]
  },
  {
   "cell_type": "code",
   "execution_count": 5,
   "id": "6572f8c8",
   "metadata": {},
   "outputs": [
    {
     "data": {
      "text/plain": [
       "'aquickbrownfoxjumpsoverthelazydogs'"
      ]
     },
     "execution_count": 5,
     "metadata": {},
     "output_type": "execute_result"
    }
   ],
   "source": [
    "l"
   ]
  }
 ],
 "metadata": {
  "kernelspec": {
   "display_name": "Python 3 (ipykernel)",
   "language": "python",
   "name": "python3"
  },
  "language_info": {
   "codemirror_mode": {
    "name": "ipython",
    "version": 3
   },
   "file_extension": ".py",
   "mimetype": "text/x-python",
   "name": "python",
   "nbconvert_exporter": "python",
   "pygments_lexer": "ipython3",
   "version": "3.9.12"
  }
 },
 "nbformat": 4,
 "nbformat_minor": 5
}
