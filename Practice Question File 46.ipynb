{
 "cells": [
  {
   "cell_type": "markdown",
   "id": "c23c07da",
   "metadata": {},
   "source": [
    "# Write a program to create a file and find a factorial and save it into file and read the file."
   ]
  },
  {
   "cell_type": "code",
   "execution_count": 1,
   "id": "bacb6dc1",
   "metadata": {},
   "outputs": [
    {
     "name": "stdout",
     "output_type": "stream",
     "text": [
      "Enter Any No.=10\n"
     ]
    }
   ],
   "source": [
    "f=open(\"Factorial_file.txt\",\"w\")\n",
    "n=int(input(\"Enter Any No.=\"))\n",
    "x=1\n",
    "for i in range(1,n+1):\n",
    "    x=x*i\n",
    "f.write('Factorial:')\n",
    "f.write(str(x))\n",
    "f.close()"
   ]
  },
  {
   "cell_type": "code",
   "execution_count": 6,
   "id": "24365214",
   "metadata": {},
   "outputs": [
    {
     "name": "stdout",
     "output_type": "stream",
     "text": [
      "Factorial:3628800\n"
     ]
    }
   ],
   "source": [
    "f=open(\"Factorial_file.txt\",\"r\")\n",
    "print(f.read())"
   ]
  }
 ],
 "metadata": {
  "kernelspec": {
   "display_name": "Python 3 (ipykernel)",
   "language": "python",
   "name": "python3"
  },
  "language_info": {
   "codemirror_mode": {
    "name": "ipython",
    "version": 3
   },
   "file_extension": ".py",
   "mimetype": "text/x-python",
   "name": "python",
   "nbconvert_exporter": "python",
   "pygments_lexer": "ipython3",
   "version": "3.9.12"
  }
 },
 "nbformat": 4,
 "nbformat_minor": 5
}
