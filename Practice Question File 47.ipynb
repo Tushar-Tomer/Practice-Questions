{
 "cells": [
  {
   "cell_type": "markdown",
   "id": "38b8efe3",
   "metadata": {},
   "source": [
    "# Write a program to create a file and Enter some line and read n no. of character in the file."
   ]
  },
  {
   "cell_type": "code",
   "execution_count": 1,
   "id": "20709182",
   "metadata": {},
   "outputs": [],
   "source": [
    "f=open(\"Read Character No.txt\",\"w\")\n",
    "f.write(\"Welcome\\n\")\n",
    "f.write(\"TO\\n\")\n",
    "f.write(\"Software\\n\")\n",
    "f.write(\"Field\")\n",
    "f.close()"
   ]
  },
  {
   "cell_type": "code",
   "execution_count": 2,
   "id": "47f7e711",
   "metadata": {},
   "outputs": [
    {
     "name": "stdout",
     "output_type": "stream",
     "text": [
      "Welc\n"
     ]
    }
   ],
   "source": [
    "f=open(\"Read Character No.txt\",\"r\")\n",
    "print(f.read(4))\n",
    "f.close()"
   ]
  }
 ],
 "metadata": {
  "kernelspec": {
   "display_name": "Python 3 (ipykernel)",
   "language": "python",
   "name": "python3"
  },
  "language_info": {
   "codemirror_mode": {
    "name": "ipython",
    "version": 3
   },
   "file_extension": ".py",
   "mimetype": "text/x-python",
   "name": "python",
   "nbconvert_exporter": "python",
   "pygments_lexer": "ipython3",
   "version": "3.9.12"
  }
 },
 "nbformat": 4,
 "nbformat_minor": 5
}
