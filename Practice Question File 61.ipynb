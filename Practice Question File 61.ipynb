{
 "cells": [
  {
   "cell_type": "markdown",
   "id": "18962850",
   "metadata": {},
   "source": [
    "# You have given nested list. Write a program to extend it by adding the sublist [\"h\",\"i\",\"j\"] in such a way that it will look like the following list.\n",
    "# Given:\n",
    "## list=[\"a\",\"b\",[\"c\",[\"d\",\"e\",[\"f\",\"g\"],\"k\"],\"l\"],\"m\",\"n\"]\n",
    "## sub_list to add:\n",
    "## sub_list=[\"h\",\"i\",\"j\"]\n",
    "# Expected Output:\n",
    "## ['a', 'b', ['c', ['d', 'e', ['f', 'g', 'h', 'i', 'j'], 'k'], 'l'], 'm', 'n']"
   ]
  },
  {
   "cell_type": "code",
   "execution_count": 1,
   "id": "4bbe62e8",
   "metadata": {},
   "outputs": [],
   "source": [
    "list=[\"a\",\"b\",[\"c\",[\"d\",\"e\",[\"f\",\"g\"],\"k\"],\"l\"],\"m\",\"n\"]"
   ]
  },
  {
   "cell_type": "code",
   "execution_count": 2,
   "id": "06fd1baa",
   "metadata": {},
   "outputs": [],
   "source": [
    "sub_list=[\"h\",\"i\",\"j\"]"
   ]
  },
  {
   "cell_type": "code",
   "execution_count": 3,
   "id": "5ba727da",
   "metadata": {},
   "outputs": [],
   "source": [
    "list[2][1][2].extend(sub_list)"
   ]
  },
  {
   "cell_type": "code",
   "execution_count": 4,
   "id": "1ec0d5f7",
   "metadata": {},
   "outputs": [
    {
     "data": {
      "text/plain": [
       "['a', 'b', ['c', ['d', 'e', ['f', 'g', 'h', 'i', 'j'], 'k'], 'l'], 'm', 'n']"
      ]
     },
     "execution_count": 4,
     "metadata": {},
     "output_type": "execute_result"
    }
   ],
   "source": [
    "list"
   ]
  }
 ],
 "metadata": {
  "kernelspec": {
   "display_name": "Python 3 (ipykernel)",
   "language": "python",
   "name": "python3"
  },
  "language_info": {
   "codemirror_mode": {
    "name": "ipython",
    "version": 3
   },
   "file_extension": ".py",
   "mimetype": "text/x-python",
   "name": "python",
   "nbconvert_exporter": "python",
   "pygments_lexer": "ipython3",
   "version": "3.9.12"
  }
 },
 "nbformat": 4,
 "nbformat_minor": 5
}
