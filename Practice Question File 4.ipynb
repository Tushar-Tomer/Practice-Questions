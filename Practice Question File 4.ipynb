{
 "cells": [
  {
   "cell_type": "markdown",
   "id": "c3448326",
   "metadata": {},
   "source": [
    "# Q- Write a functon and perform some task.\n",
    "# i) If age<13, print You are young..\n",
    "# ii) If age>=13 and age<18, print You are a teenager..\n",
    "# iii) Otherwise, print You are old.\n",
    "# Note : If age less than 0 so print \"Age is not valid, setting age to 0.\""
   ]
  },
  {
   "cell_type": "code",
   "execution_count": 9,
   "id": "72264e6c",
   "metadata": {},
   "outputs": [
    {
     "name": "stdout",
     "output_type": "stream",
     "text": [
      "Enter your age = 14\n",
      "You are a teenager.\n"
     ]
    }
   ],
   "source": [
    "def age(n):\n",
    "    if n<13:\n",
    "        print(\"You are young.\")\n",
    "    elif n>=13 and n<18:\n",
    "        print(\"You are a teenager.\")\n",
    "    else:\n",
    "        print(\"You are old.\")\n",
    "age_n = int(input(\"Enter your age = \"))\n",
    "if age_n<0:\n",
    "    print(\"Age is not valid, setting age to 0.\")\n",
    "else:\n",
    "    age(age_n)"
   ]
  }
 ],
 "metadata": {
  "kernelspec": {
   "display_name": "Python 3 (ipykernel)",
   "language": "python",
   "name": "python3"
  },
  "language_info": {
   "codemirror_mode": {
    "name": "ipython",
    "version": 3
   },
   "file_extension": ".py",
   "mimetype": "text/x-python",
   "name": "python",
   "nbconvert_exporter": "python",
   "pygments_lexer": "ipython3",
   "version": "3.9.12"
  }
 },
 "nbformat": 4,
 "nbformat_minor": 5
}
