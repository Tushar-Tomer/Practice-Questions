{
 "cells": [
  {
   "cell_type": "markdown",
   "id": "04c4a5c9",
   "metadata": {},
   "source": [
    "# Q-Given an integer, , perform the following conditional actions:\n",
    "\n",
    "## i) If  is odd, print Weird\n",
    "## ii) If  is even and in the inclusive range of 2 to 5, print Not Weird\n",
    "## iii) If  is even and in the inclusive range of 6 to 20, print Weird\n",
    "## iv) If  is even and greater than 20, print Not Weird"
   ]
  },
  {
   "cell_type": "code",
   "execution_count": 21,
   "id": "7580c209",
   "metadata": {},
   "outputs": [
    {
     "name": "stdout",
     "output_type": "stream",
     "text": [
      "4\n",
      "Not Weird\n"
     ]
    }
   ],
   "source": [
    "a=list(range (2,6))\n",
    "b=list(range (6,21))\n",
    "N = int(input())\n",
    "if N%2!=0:\n",
    "    print(\"Weird\")\n",
    "if N%2==0:\n",
    "    if N in a:\n",
    "        print(\"Not Weird\")\n",
    "if N%2==0:\n",
    "    if N in b:\n",
    "        print(\"Weird\")\n",
    "if N%2==0 and N>20:\n",
    "    print(\"Not Weird\")\n",
    "    "
   ]
  }
 ],
 "metadata": {
  "kernelspec": {
   "display_name": "Python 3 (ipykernel)",
   "language": "python",
   "name": "python3"
  },
  "language_info": {
   "codemirror_mode": {
    "name": "ipython",
    "version": 3
   },
   "file_extension": ".py",
   "mimetype": "text/x-python",
   "name": "python",
   "nbconvert_exporter": "python",
   "pygments_lexer": "ipython3",
   "version": "3.9.12"
  }
 },
 "nbformat": 4,
 "nbformat_minor": 5
}
