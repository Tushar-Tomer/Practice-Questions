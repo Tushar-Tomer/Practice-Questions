{
 "cells": [
  {
   "cell_type": "markdown",
   "id": "fae60a8d",
   "metadata": {},
   "source": [
    "# Create a mixed string using the following rules. Given two strings s1 , s2. Write a program to create a new string s3 made of the first char of s1 , then the last char of s2 , Next , the second char of s1 and second last char of s2 , and so on. Any leftover chars go at the end of the result.\n",
    "\n",
    "# Given :\n",
    "## s1 = \"Abc\"\n",
    "## s2 = \"Xyz\"\n",
    "\n",
    "# Output :\n",
    "## \"AzbycX\""
   ]
  },
  {
   "cell_type": "code",
   "execution_count": 2,
   "id": "7e46fb8a",
   "metadata": {},
   "outputs": [
    {
     "data": {
      "text/plain": [
       "'AzbycX'"
      ]
     },
     "execution_count": 2,
     "metadata": {},
     "output_type": "execute_result"
    }
   ],
   "source": [
    "s1=\"Abc\"\n",
    "s2=\"Xyz\"\n",
    "x=\"\"\n",
    "s3=s2[::-1]\n",
    "for i,j in zip(s1,s3):\n",
    "    x=x+i+j\n",
    "x"
   ]
  }
 ],
 "metadata": {
  "kernelspec": {
   "display_name": "Python 3 (ipykernel)",
   "language": "python",
   "name": "python3"
  },
  "language_info": {
   "codemirror_mode": {
    "name": "ipython",
    "version": 3
   },
   "file_extension": ".py",
   "mimetype": "text/x-python",
   "name": "python",
   "nbconvert_exporter": "python",
   "pygments_lexer": "ipython3",
   "version": "3.9.12"
  }
 },
 "nbformat": 4,
 "nbformat_minor": 5
}
