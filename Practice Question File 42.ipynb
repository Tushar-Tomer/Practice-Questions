{
 "cells": [
  {
   "cell_type": "markdown",
   "id": "5a95e3f8",
   "metadata": {},
   "source": [
    "# Write a program to make a class of name and age and print."
   ]
  },
  {
   "cell_type": "code",
   "execution_count": 10,
   "id": "ea71378f",
   "metadata": {},
   "outputs": [],
   "source": [
    "class Student:  ## class name pascalname\n",
    "    studentsclass=\"A\"\n",
    "    def __init__(self,name,age): ### constructor magic  methods \n",
    "        self.name=name   ### instance variable\n",
    "        self.age=age     ### instamce variable\n",
    "    def get_age(self):## methods name should be in snake case\n",
    "        print(\"Name = \",self.name)\n",
    "        print(\"Age = \",self.age)\n"
   ]
  },
  {
   "cell_type": "code",
   "execution_count": 12,
   "id": "f1790c44",
   "metadata": {},
   "outputs": [
    {
     "name": "stdout",
     "output_type": "stream",
     "text": [
      "Name =  Priya\n",
      "Age =  20\n",
      "Name =  Riya\n",
      "Age =  23\n"
     ]
    }
   ],
   "source": [
    "s1=Student(\"Priya\",20)\n",
    "s2=Student(\"Riya\",23)\n",
    "s1.get_age()\n",
    "s2.get_age()"
   ]
  }
 ],
 "metadata": {
  "kernelspec": {
   "display_name": "Python 3 (ipykernel)",
   "language": "python",
   "name": "python3"
  },
  "language_info": {
   "codemirror_mode": {
    "name": "ipython",
    "version": 3
   },
   "file_extension": ".py",
   "mimetype": "text/x-python",
   "name": "python",
   "nbconvert_exporter": "python",
   "pygments_lexer": "ipython3",
   "version": "3.9.12"
  }
 },
 "nbformat": 4,
 "nbformat_minor": 5
}
