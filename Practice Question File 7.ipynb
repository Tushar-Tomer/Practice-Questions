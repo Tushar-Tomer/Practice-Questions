{
 "cells": [
  {
   "cell_type": "markdown",
   "id": "a38d00fb",
   "metadata": {},
   "source": [
    "# Q- Count the Alphabet , Vowel and Consonants in the given list.\n",
    "# ['a', 'b', 'c', 'd', 'e', 'f', 'g', 'h', 'i', 'j', 'k', 'l', 'm', 'n', 'o', 'p', 'q', 'r', 's', 't', 'u', 'v', 'w', 'x', 'y', 'z']"
   ]
  },
  {
   "cell_type": "code",
   "execution_count": 1,
   "id": "a7d9450d",
   "metadata": {},
   "outputs": [
    {
     "name": "stdout",
     "output_type": "stream",
     "text": [
      "Count of Alphabet =  26\n",
      "Count of Vowel =  5\n",
      "Count of Consonants =  21\n"
     ]
    }
   ],
   "source": [
    "v=['a', 'b', 'c', 'd', 'e', 'f', 'g', 'h', 'i', 'j', 'k', 'l', 'm', 'n', 'o', 'p', 'q', 'r', 's', 't', 'u', 'v', 'w', 'x', 'y', 'z']\n",
    "a=0\n",
    "c=0\n",
    "co=0\n",
    "for i in v:\n",
    "    a=a+1\n",
    "    if i=='a' or i=='e' or i=='i' or i=='o' or i=='u':\n",
    "      \n",
    "        c=c+1\n",
    "    else:\n",
    "        \n",
    "        co=co+1\n",
    "print(\"Count of Alphabet = \",a)\n",
    "print(\"Count of Vowel = \",c)\n",
    "print('Count of Consonants = ',co)"
   ]
  }
 ],
 "metadata": {
  "kernelspec": {
   "display_name": "Python 3 (ipykernel)",
   "language": "python",
   "name": "python3"
  },
  "language_info": {
   "codemirror_mode": {
    "name": "ipython",
    "version": 3
   },
   "file_extension": ".py",
   "mimetype": "text/x-python",
   "name": "python",
   "nbconvert_exporter": "python",
   "pygments_lexer": "ipython3",
   "version": "3.9.12"
  }
 },
 "nbformat": 4,
 "nbformat_minor": 5
}
