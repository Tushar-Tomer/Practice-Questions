{
 "cells": [
  {
   "cell_type": "markdown",
   "id": "ad06ad64",
   "metadata": {},
   "source": [
    "# Find those number who are divisible by 2 in the string."
   ]
  },
  {
   "cell_type": "code",
   "execution_count": 2,
   "id": "4ea9abe2",
   "metadata": {},
   "outputs": [
    {
     "name": "stdout",
     "output_type": "stream",
     "text": [
      "4\n",
      "4\n",
      "4\n",
      "4\n",
      "8\n",
      "6\n",
      "2\n"
     ]
    }
   ],
   "source": [
    "s='fdndh4353fhvd35jk 53343b b4345386912'\n",
    "for i in s:\n",
    "    if i.isdigit(): \n",
    "        if int(i)%2==0:# Because i in string so we can first convert string to int\n",
    "            print(i)\n",
    "    else:\n",
    "        pass"
   ]
  }
 ],
 "metadata": {
  "kernelspec": {
   "display_name": "Python 3 (ipykernel)",
   "language": "python",
   "name": "python3"
  },
  "language_info": {
   "codemirror_mode": {
    "name": "ipython",
    "version": 3
   },
   "file_extension": ".py",
   "mimetype": "text/x-python",
   "name": "python",
   "nbconvert_exporter": "python",
   "pygments_lexer": "ipython3",
   "version": "3.9.12"
  }
 },
 "nbformat": 4,
 "nbformat_minor": 5
}
