{
 "cells": [
  {
   "cell_type": "markdown",
   "id": "2545fc63",
   "metadata": {},
   "source": [
    "# Write a function to print an average of all numbers."
   ]
  },
  {
   "cell_type": "code",
   "execution_count": 4,
   "id": "d628ddfb",
   "metadata": {},
   "outputs": [
    {
     "name": "stdout",
     "output_type": "stream",
     "text": [
      "(10, 20, 30, 40, 50, 60, 70, 80, 90, 100, 110, 120, 130) <class 'tuple'>\n",
      "\n",
      "Average of all the numbers is 70.0\n"
     ]
    }
   ],
   "source": [
    "def find_average(*numbers):     \n",
    "    print(numbers,type(numbers))\n",
    "    \n",
    "    print('\\nAverage of all the numbers is',sum(numbers)/len(numbers))\n",
    "    \n",
    "    \n",
    "y=find_average(10,20,30,40,50,60,70,80,90,100,110,120,130)"
   ]
  }
 ],
 "metadata": {
  "kernelspec": {
   "display_name": "Python 3 (ipykernel)",
   "language": "python",
   "name": "python3"
  },
  "language_info": {
   "codemirror_mode": {
    "name": "ipython",
    "version": 3
   },
   "file_extension": ".py",
   "mimetype": "text/x-python",
   "name": "python",
   "nbconvert_exporter": "python",
   "pygments_lexer": "ipython3",
   "version": "3.9.12"
  }
 },
 "nbformat": 4,
 "nbformat_minor": 5
}
