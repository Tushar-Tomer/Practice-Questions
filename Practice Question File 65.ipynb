{
 "cells": [
  {
   "cell_type": "markdown",
   "id": "4d46d2d3",
   "metadata": {},
   "source": [
    "# Append new string in the middle of a string. Given n1 and n2. Write a program to create a new string s3 by appending s2 in the middle of s1.\n",
    "## Given:\n",
    "## s1=\"Ault\"\n",
    "## s2=\"Kelly\"\n",
    "# Output :\n",
    "## \"AuKellylt\""
   ]
  },
  {
   "cell_type": "code",
   "execution_count": 6,
   "id": "fd433ec8",
   "metadata": {},
   "outputs": [
    {
     "data": {
      "text/plain": [
       "'AuKellylt'"
      ]
     },
     "execution_count": 6,
     "metadata": {},
     "output_type": "execute_result"
    }
   ],
   "source": [
    "name=\"\"\n",
    "n1=\"Ault\"\n",
    "n2=\"Kelly\"\n",
    "n3=int(len(n1)/2)\n",
    "name=name+n1[:n3]\n",
    "name=name+n2+n1[n3:]\n",
    "name\n"
   ]
  }
 ],
 "metadata": {
  "kernelspec": {
   "display_name": "Python 3 (ipykernel)",
   "language": "python",
   "name": "python3"
  },
  "language_info": {
   "codemirror_mode": {
    "name": "ipython",
    "version": 3
   },
   "file_extension": ".py",
   "mimetype": "text/x-python",
   "name": "python",
   "nbconvert_exporter": "python",
   "pygments_lexer": "ipython3",
   "version": "3.9.12"
  }
 },
 "nbformat": 4,
 "nbformat_minor": 5
}
