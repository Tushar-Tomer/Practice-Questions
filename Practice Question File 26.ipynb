{
 "cells": [
  {
   "cell_type": "markdown",
   "id": "d2c84496",
   "metadata": {},
   "source": [
    "# How to delete the element from the list"
   ]
  },
  {
   "cell_type": "markdown",
   "id": "e93f946d",
   "metadata": {},
   "source": [
    "## - del\n",
    "## - remove\n",
    "## - pop"
   ]
  },
  {
   "cell_type": "markdown",
   "id": "0206ef89",
   "metadata": {},
   "source": [
    "## Delete whole list"
   ]
  },
  {
   "cell_type": "code",
   "execution_count": 1,
   "id": "70598807",
   "metadata": {},
   "outputs": [
    {
     "name": "stdout",
     "output_type": "stream",
     "text": [
      "[100, 200, 300, 400]\n"
     ]
    },
    {
     "ename": "NameError",
     "evalue": "name 'l' is not defined",
     "output_type": "error",
     "traceback": [
      "\u001b[1;31m---------------------------------------------------------------------------\u001b[0m",
      "\u001b[1;31mNameError\u001b[0m                                 Traceback (most recent call last)",
      "Input \u001b[1;32mIn [1]\u001b[0m, in \u001b[0;36m<cell line: 4>\u001b[1;34m()\u001b[0m\n\u001b[0;32m      2\u001b[0m \u001b[38;5;28mprint\u001b[39m(l)\n\u001b[0;32m      3\u001b[0m \u001b[38;5;28;01mdel\u001b[39;00m l\n\u001b[1;32m----> 4\u001b[0m \u001b[38;5;28mprint\u001b[39m(\u001b[43ml\u001b[49m)\n",
      "\u001b[1;31mNameError\u001b[0m: name 'l' is not defined"
     ]
    }
   ],
   "source": [
    "l=[100,200,300,400]\n",
    "print(l)\n",
    "del l\n",
    "print(l) # Now list is deleted or we can say that no data in the list that's why error is come."
   ]
  },
  {
   "cell_type": "markdown",
   "id": "9dc4f1a2",
   "metadata": {},
   "source": [
    "## Delete particular element based on index "
   ]
  },
  {
   "cell_type": "code",
   "execution_count": 2,
   "id": "97209eea",
   "metadata": {},
   "outputs": [
    {
     "name": "stdout",
     "output_type": "stream",
     "text": [
      "[100, 200, 300, 400]\n",
      "[100, 200, 400]\n"
     ]
    }
   ],
   "source": [
    "l=[100,200,300,400]\n",
    "print(l)\n",
    "del l[2]\n",
    "print(l)"
   ]
  },
  {
   "cell_type": "code",
   "execution_count": 3,
   "id": "47983ed6",
   "metadata": {},
   "outputs": [
    {
     "name": "stdout",
     "output_type": "stream",
     "text": [
      "[100]\n"
     ]
    }
   ],
   "source": [
    "del l[1:3]\n",
    "print(l)"
   ]
  },
  {
   "cell_type": "code",
   "execution_count": 4,
   "id": "0a23a76a",
   "metadata": {},
   "outputs": [
    {
     "name": "stdout",
     "output_type": "stream",
     "text": [
      "5\n",
      "[1, 2, 3, 4]\n"
     ]
    }
   ],
   "source": [
    "l=[1,2,3,4,5]\n",
    "a=l.pop()## deletes last element by default and return pooped element\n",
    "print(a)\n",
    "print(l)"
   ]
  },
  {
   "cell_type": "code",
   "execution_count": 5,
   "id": "cc170e9b",
   "metadata": {},
   "outputs": [
    {
     "data": {
      "text/plain": [
       "'hello'"
      ]
     },
     "execution_count": 5,
     "metadata": {},
     "output_type": "execute_result"
    }
   ],
   "source": [
    "l=[23,45,6,7,\"hello\"]\n",
    "#l.pop()\n",
    "l.pop()"
   ]
  },
  {
   "cell_type": "code",
   "execution_count": 6,
   "id": "ce220227",
   "metadata": {},
   "outputs": [],
   "source": [
    "l=[200,400,3,1000]"
   ]
  },
  {
   "cell_type": "code",
   "execution_count": 7,
   "id": "8dda22b7",
   "metadata": {},
   "outputs": [
    {
     "name": "stdout",
     "output_type": "stream",
     "text": [
      "[200, 400, 1000]\n"
     ]
    }
   ],
   "source": [
    "l.remove(3)  ## remove 3\n",
    "print(l)"
   ]
  },
  {
   "cell_type": "markdown",
   "id": "eb332324",
   "metadata": {},
   "source": [
    "## How to clear all the elements of list : empty list --- using clear()"
   ]
  },
  {
   "cell_type": "code",
   "execution_count": 8,
   "id": "086d7969",
   "metadata": {},
   "outputs": [
    {
     "name": "stdout",
     "output_type": "stream",
     "text": [
      "[]\n"
     ]
    }
   ],
   "source": [
    "l=[200,400,3,1000]\n",
    "l.clear()\n",
    "print(l)"
   ]
  }
 ],
 "metadata": {
  "kernelspec": {
   "display_name": "Python 3 (ipykernel)",
   "language": "python",
   "name": "python3"
  },
  "language_info": {
   "codemirror_mode": {
    "name": "ipython",
    "version": 3
   },
   "file_extension": ".py",
   "mimetype": "text/x-python",
   "name": "python",
   "nbconvert_exporter": "python",
   "pygments_lexer": "ipython3",
   "version": "3.9.12"
  }
 },
 "nbformat": 4,
 "nbformat_minor": 5
}
