{
 "cells": [
  {
   "cell_type": "markdown",
   "id": "8bd0f28d",
   "metadata": {},
   "source": [
    "# Write a program to add item 7000 after 6000 in the following Python List\n",
    "# Given:\n",
    "## l=[10,20,[300,400,[5000,6000],500],40,50]\n",
    "# Output :\n",
    "## l=[10,20,[300,400,[5000,6000,7000],500],40,50]"
   ]
  },
  {
   "cell_type": "code",
   "execution_count": 18,
   "id": "887437ac",
   "metadata": {},
   "outputs": [],
   "source": [
    "l=[10,20,[300,400,[5000,6000],500],40,50]"
   ]
  },
  {
   "cell_type": "code",
   "execution_count": 19,
   "id": "64efcb66",
   "metadata": {},
   "outputs": [],
   "source": [
    "l[2][2].append(7000)"
   ]
  },
  {
   "cell_type": "code",
   "execution_count": 20,
   "id": "b54b6c7a",
   "metadata": {},
   "outputs": [
    {
     "data": {
      "text/plain": [
       "[10, 20, [300, 400, [5000, 6000, 7000], 500], 40, 50]"
      ]
     },
     "execution_count": 20,
     "metadata": {},
     "output_type": "execute_result"
    }
   ],
   "source": [
    "l"
   ]
  }
 ],
 "metadata": {
  "kernelspec": {
   "display_name": "Python 3 (ipykernel)",
   "language": "python",
   "name": "python3"
  },
  "language_info": {
   "codemirror_mode": {
    "name": "ipython",
    "version": 3
   },
   "file_extension": ".py",
   "mimetype": "text/x-python",
   "name": "python",
   "nbconvert_exporter": "python",
   "pygments_lexer": "ipython3",
   "version": "3.9.12"
  }
 },
 "nbformat": 4,
 "nbformat_minor": 5
}
