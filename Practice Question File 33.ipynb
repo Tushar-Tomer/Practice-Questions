{
 "cells": [
  {
   "cell_type": "markdown",
   "id": "1c19b927",
   "metadata": {},
   "source": [
    "# Write a function to print information using dictionary."
   ]
  },
  {
   "cell_type": "code",
   "execution_count": 2,
   "id": "342ca628",
   "metadata": {},
   "outputs": [
    {
     "name": "stdout",
     "output_type": "stream",
     "text": [
      "{'Name': 'Hritik', 'Age': 24, 'Gender': 'Male'}\n",
      "dict_items([('Name', 'Hritik'), ('Age', 24), ('Gender', 'Male')])\n",
      "Person Information\n",
      "Name -------- Hritik\n",
      "Age -------- 24\n",
      "Gender -------- Male\n"
     ]
    }
   ],
   "source": [
    "def f2(**k):\n",
    "    print(k)\n",
    "    print(k.items())\n",
    "    print('Person Information')\n",
    "    for key,value in k.items():\n",
    "        \n",
    "        print(key,'--------',value)\n",
    "        \n",
    "f2(Name='Hritik',Age=24,Gender=\"Male\")"
   ]
  }
 ],
 "metadata": {
  "kernelspec": {
   "display_name": "Python 3 (ipykernel)",
   "language": "python",
   "name": "python3"
  },
  "language_info": {
   "codemirror_mode": {
    "name": "ipython",
    "version": 3
   },
   "file_extension": ".py",
   "mimetype": "text/x-python",
   "name": "python",
   "nbconvert_exporter": "python",
   "pygments_lexer": "ipython3",
   "version": "3.9.12"
  }
 },
 "nbformat": 4,
 "nbformat_minor": 5
}
