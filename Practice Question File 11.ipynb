{
 "cells": [
  {
   "cell_type": "markdown",
   "id": "db36c4b0",
   "metadata": {},
   "source": [
    "# Check the input number is correct or not."
   ]
  },
  {
   "cell_type": "code",
   "execution_count": 1,
   "id": "fdd2c618",
   "metadata": {},
   "outputs": [
    {
     "name": "stdout",
     "output_type": "stream",
     "text": [
      "Enter Your Mobile No.=9676556365\n",
      "10\n",
      "Yes it's your no.:\n"
     ]
    }
   ],
   "source": [
    "n=input(\"Enter Your Mobile No.=\")\n",
    "b=0\n",
    "c=int(n)\n",
    "while c!=0:\n",
    "        b=b+1\n",
    "        c=c//10\n",
    "print(b)\n",
    "if b==10:\n",
    "    if n=='9676556365':\n",
    "        print(\"Yes it's your no.:\")\n",
    "    else:\n",
    "        print(\"It's not your no.:\")\n",
    "else:\n",
    "    print(\"Reenter the correct no.:\")"
   ]
  },
  {
   "cell_type": "code",
   "execution_count": 2,
   "id": "7f0e6329",
   "metadata": {},
   "outputs": [
    {
     "name": "stdout",
     "output_type": "stream",
     "text": [
      "Enter Your Mobile No.=856435342\n",
      "9\n",
      "Reenter the correct no.:\n"
     ]
    }
   ],
   "source": [
    "n=input(\"Enter Your Mobile No.=\")\n",
    "b=0\n",
    "c=int(n)\n",
    "while c!=0:\n",
    "        b=b+1\n",
    "        c=c//10\n",
    "print(b)\n",
    "if b==10:\n",
    "    if n=='9676556365':\n",
    "        print(\"Yes it's your no.:\")\n",
    "    else:\n",
    "        print(\"It's not your no.:\")\n",
    "else:\n",
    "    print(\"Reenter the correct no.:\")"
   ]
  }
 ],
 "metadata": {
  "kernelspec": {
   "display_name": "Python 3 (ipykernel)",
   "language": "python",
   "name": "python3"
  },
  "language_info": {
   "codemirror_mode": {
    "name": "ipython",
    "version": 3
   },
   "file_extension": ".py",
   "mimetype": "text/x-python",
   "name": "python",
   "nbconvert_exporter": "python",
   "pygments_lexer": "ipython3",
   "version": "3.9.12"
  }
 },
 "nbformat": 4,
 "nbformat_minor": 5
}
