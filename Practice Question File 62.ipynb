{
 "cells": [
  {
   "cell_type": "markdown",
   "id": "0c69c883",
   "metadata": {},
   "source": [
    "# Write a program to find the value 4 and replace it into 400 in the given list.\n",
    "# Given List:\n",
    "## a=[1,2,3,4]"
   ]
  },
  {
   "cell_type": "code",
   "execution_count": 1,
   "id": "60a21882",
   "metadata": {},
   "outputs": [
    {
     "data": {
      "text/plain": [
       "[1, 2, 3, 400]"
      ]
     },
     "execution_count": 1,
     "metadata": {},
     "output_type": "execute_result"
    }
   ],
   "source": [
    "a=[1,2,3,4]\n",
    "a[3]=400\n",
    "a"
   ]
  },
  {
   "cell_type": "markdown",
   "id": "b37e972e",
   "metadata": {},
   "source": [
    "# Remove all occurrences of a specific item from a list.\n",
    "# Given List:\n",
    "## l=[5,20,15,20,25,50,20,15,15,5,25]"
   ]
  },
  {
   "cell_type": "code",
   "execution_count": 16,
   "id": "13d8f13c",
   "metadata": {},
   "outputs": [
    {
     "data": {
      "text/plain": [
       "[5, 20, 15, 25, 50]"
      ]
     },
     "execution_count": 16,
     "metadata": {},
     "output_type": "execute_result"
    }
   ],
   "source": [
    "l=[5,20,15,20,25,50,20,15,15,5,25]\n",
    "a=[]\n",
    "for i in l:\n",
    "    if i not in a:\n",
    "        a.append(i)\n",
    "a"
   ]
  }
 ],
 "metadata": {
  "kernelspec": {
   "display_name": "Python 3 (ipykernel)",
   "language": "python",
   "name": "python3"
  },
  "language_info": {
   "codemirror_mode": {
    "name": "ipython",
    "version": 3
   },
   "file_extension": ".py",
   "mimetype": "text/x-python",
   "name": "python",
   "nbconvert_exporter": "python",
   "pygments_lexer": "ipython3",
   "version": "3.9.12"
  }
 },
 "nbformat": 4,
 "nbformat_minor": 5
}
