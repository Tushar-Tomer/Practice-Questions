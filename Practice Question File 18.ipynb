{
 "cells": [
  {
   "cell_type": "markdown",
   "id": "6ab70e9c",
   "metadata": {},
   "source": [
    "# Write a program to check whether the number is prime or composite."
   ]
  },
  {
   "cell_type": "code",
   "execution_count": 2,
   "id": "2fd942e4",
   "metadata": {},
   "outputs": [
    {
     "name": "stdout",
     "output_type": "stream",
     "text": [
      "enter the number 10\n",
      "The number is compsite\n"
     ]
    }
   ],
   "source": [
    "num=int(input(\"enter the number \"))\n",
    "count=0\n",
    "for i in range(1,num+1):\n",
    "    if num%i==0:\n",
    "        count=count+1\n",
    "if count==2:\n",
    "    print(\"The number is prime\")\n",
    "else :\n",
    "    print(\"The number is compsite\")"
   ]
  },
  {
   "cell_type": "code",
   "execution_count": 3,
   "id": "867ab2ec",
   "metadata": {},
   "outputs": [
    {
     "name": "stdout",
     "output_type": "stream",
     "text": [
      "enter the number 4\n",
      "The number is compsite\n"
     ]
    }
   ],
   "source": [
    "num=int(input(\"enter the number \"))\n",
    "count=0\n",
    "for i in range(1,num+1):\n",
    "    if num%i==0:\n",
    "        count=count+1\n",
    "if count==2:\n",
    "    print(\"The number is prime\")\n",
    "else :\n",
    "    print(\"The number is compsite\")"
   ]
  },
  {
   "cell_type": "code",
   "execution_count": 4,
   "id": "a2185006",
   "metadata": {},
   "outputs": [
    {
     "name": "stdout",
     "output_type": "stream",
     "text": [
      "enter the number 5\n",
      "The number is prime\n"
     ]
    }
   ],
   "source": [
    "num=int(input(\"enter the number \"))\n",
    "count=0\n",
    "for i in range(1,num+1):\n",
    "    if num%i==0:\n",
    "        count=count+1\n",
    "if count==2:\n",
    "    print(\"The number is prime\")\n",
    "else :\n",
    "    print(\"The number is compsite\")"
   ]
  },
  {
   "cell_type": "code",
   "execution_count": 5,
   "id": "c423ed6c",
   "metadata": {},
   "outputs": [
    {
     "name": "stdout",
     "output_type": "stream",
     "text": [
      "enter the number 7\n",
      "The number is prime\n"
     ]
    }
   ],
   "source": [
    "num=int(input(\"enter the number \"))\n",
    "count=0\n",
    "for i in range(1,num+1):\n",
    "    if num%i==0:\n",
    "        count=count+1\n",
    "if count==2:\n",
    "    print(\"The number is prime\")\n",
    "else :\n",
    "    print(\"The number is compsite\")"
   ]
  }
 ],
 "metadata": {
  "kernelspec": {
   "display_name": "Python 3 (ipykernel)",
   "language": "python",
   "name": "python3"
  },
  "language_info": {
   "codemirror_mode": {
    "name": "ipython",
    "version": 3
   },
   "file_extension": ".py",
   "mimetype": "text/x-python",
   "name": "python",
   "nbconvert_exporter": "python",
   "pygments_lexer": "ipython3",
   "version": "3.9.12"
  }
 },
 "nbformat": 4,
 "nbformat_minor": 5
}
