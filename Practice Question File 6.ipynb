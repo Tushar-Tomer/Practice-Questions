{
 "cells": [
  {
   "cell_type": "markdown",
   "id": "36ef0e31",
   "metadata": {},
   "source": [
    "# Q- Find the count , sum and square of Even and Odd number in the given range.\n",
    "# [0,1,2,3,4,5,6,7,8,9,10]"
   ]
  },
  {
   "cell_type": "code",
   "execution_count": 1,
   "id": "109a1617",
   "metadata": {},
   "outputs": [
    {
     "name": "stdout",
     "output_type": "stream",
     "text": [
      "Even is  6\n",
      "Sum Of Even No.= 30\n",
      "Sum of Square Even No.= 220\n",
      "Odd is  5\n",
      "Sum of Odd No.= 25\n",
      "Sum of Square Odd No.= 1225\n"
     ]
    }
   ],
   "source": [
    "a=[0,1,2,3,4,5,6,7,8,9,10]\n",
    "e=0\n",
    "o=0\n",
    "c=0\n",
    "d=0\n",
    "s=0\n",
    "t=0\n",
    "for i in a:\n",
    "    if i%2==0:\n",
    "        e=e+1\n",
    "        c=c+i\n",
    "        s=s+i**2\n",
    "    else:\n",
    "        o=o+1\n",
    "        d=d+i\n",
    "        t=t+i**3\n",
    "print(\"Count of Even no. is \",e)\n",
    "print(\"Sum Of Even No.=\",c)\n",
    "print(\"Sum of Square Even No.=\",s)\n",
    "print(\"Count of Odd no. is \",o)\n",
    "print(\"Sum of Odd No.=\",d)\n",
    "print(\"Sum of Square Odd No.=\",t)"
   ]
  }
 ],
 "metadata": {
  "kernelspec": {
   "display_name": "Python 3 (ipykernel)",
   "language": "python",
   "name": "python3"
  },
  "language_info": {
   "codemirror_mode": {
    "name": "ipython",
    "version": 3
   },
   "file_extension": ".py",
   "mimetype": "text/x-python",
   "name": "python",
   "nbconvert_exporter": "python",
   "pygments_lexer": "ipython3",
   "version": "3.9.12"
  }
 },
 "nbformat": 4,
 "nbformat_minor": 5
}
