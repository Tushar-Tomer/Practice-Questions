{
 "cells": [
  {
   "cell_type": "markdown",
   "id": "74030f81",
   "metadata": {},
   "source": [
    "# Q- Given the meal price (base cost of a meal), tip percent (the percentage of the meal price being added as tip), and tax percent (the percentage of the meal price being added as tax) for a meal, find and print the meal's total cost. Round the result to the nearest integer."
   ]
  },
  {
   "cell_type": "code",
   "execution_count": 1,
   "id": "00a930bf",
   "metadata": {},
   "outputs": [
    {
     "name": "stdout",
     "output_type": "stream",
     "text": [
      "Enter Meal Cost = 120\n",
      "Enter Tip Percentage = 1\n",
      "Enter Tax Percentage = 18\n",
      "143\n"
     ]
    }
   ],
   "source": [
    "def solve(meal_cost, tip_percent, tax_percent):\n",
    "    tip=meal_cost/100*tip_percent\n",
    "    tax=meal_cost/100*tax_percent\n",
    "\n",
    "    total_cost=meal_cost+tip+tax\n",
    "    print(round(total_cost))\n",
    "\n",
    "meal_cost = float(input(\"Enter Meal Cost = \"))\n",
    "\n",
    "tip_percent = int(input(\"Enter Tip Percentage = \"))\n",
    "\n",
    "tax_percent = int(input(\"Enter Tax Percentage = \"))\n",
    "\n",
    "solve(meal_cost, tip_percent, tax_percent)\n"
   ]
  }
 ],
 "metadata": {
  "kernelspec": {
   "display_name": "Python 3 (ipykernel)",
   "language": "python",
   "name": "python3"
  },
  "language_info": {
   "codemirror_mode": {
    "name": "ipython",
    "version": 3
   },
   "file_extension": ".py",
   "mimetype": "text/x-python",
   "name": "python",
   "nbconvert_exporter": "python",
   "pygments_lexer": "ipython3",
   "version": "3.9.12"
  }
 },
 "nbformat": 4,
 "nbformat_minor": 5
}
