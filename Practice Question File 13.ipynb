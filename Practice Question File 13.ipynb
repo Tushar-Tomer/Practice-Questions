{
 "cells": [
  {
   "cell_type": "markdown",
   "id": "e0dbe7e7",
   "metadata": {},
   "source": [
    "# Give any number from the user and tell how many different number of notes ? "
   ]
  },
  {
   "cell_type": "code",
   "execution_count": 1,
   "id": "ad9e7c81",
   "metadata": {},
   "outputs": [
    {
     "name": "stdout",
     "output_type": "stream",
     "text": [
      "Enter Any no.=444444\n",
      "Notes of 2000= 222\n",
      "Notes of 500= 0\n",
      "Notes of 200= 2\n",
      "Notes of 100= 0\n",
      "Notes of 50= 0\n",
      "Notes of 20= 2\n",
      "Notes of 10= 0\n",
      "Notes of 5= 0\n",
      "Notes of 2= 2\n",
      "Notes of 1= 0\n"
     ]
    }
   ],
   "source": [
    "# How many notes \n",
    "n=int(input(\"Enter Any no.=\"))\n",
    "a=n//2000\n",
    "print(\"Notes of 2000=\",a)\n",
    "n=n%2000\n",
    "a=n//500\n",
    "print(\"Notes of 500=\",a)\n",
    "n=n%500\n",
    "a=n//200\n",
    "print(\"Notes of 200=\",a)\n",
    "n=n%200\n",
    "a=n//100\n",
    "print(\"Notes of 100=\",a)\n",
    "n=n%100\n",
    "a=n//50\n",
    "print(\"Notes of 50=\",a)\n",
    "n=n%50\n",
    "a=n//20\n",
    "print(\"Notes of 20=\",a)\n",
    "n=n%20\n",
    "a=n//10\n",
    "print(\"Notes of 10=\",a)\n",
    "n=n%10\n",
    "a=n//5\n",
    "print(\"Notes of 5=\",a)\n",
    "n=n%5\n",
    "a=n//2\n",
    "print(\"Notes of 2=\",a)\n",
    "n=n%2\n",
    "a=n//1\n",
    "print(\"Notes of 1=\",a)"
   ]
  }
 ],
 "metadata": {
  "kernelspec": {
   "display_name": "Python 3 (ipykernel)",
   "language": "python",
   "name": "python3"
  },
  "language_info": {
   "codemirror_mode": {
    "name": "ipython",
    "version": 3
   },
   "file_extension": ".py",
   "mimetype": "text/x-python",
   "name": "python",
   "nbconvert_exporter": "python",
   "pygments_lexer": "ipython3",
   "version": "3.9.12"
  }
 },
 "nbformat": 4,
 "nbformat_minor": 5
}
