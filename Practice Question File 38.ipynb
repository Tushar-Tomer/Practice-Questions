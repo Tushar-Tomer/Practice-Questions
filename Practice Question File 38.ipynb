{
 "cells": [
  {
   "cell_type": "markdown",
   "id": "477729c9",
   "metadata": {},
   "source": [
    "# Write a program to print a list into tuple list and make square of all the numbers .\n",
    "# Note : All the code in one line."
   ]
  },
  {
   "cell_type": "code",
   "execution_count": 1,
   "id": "72eac54a",
   "metadata": {},
   "outputs": [
    {
     "name": "stdout",
     "output_type": "stream",
     "text": [
      "(1, 4, 9, 16, 25, 36, 49, 64, 81, 100, 121, 144, 169, 196, 225, 256, 289, 324, 361, 400)\n"
     ]
    }
   ],
   "source": [
    "l=[1,2,3,4,5,6,7,8,9,10,11,12,13,14,15,16,17,18,19,20]\n",
    "a=tuple(map(lambda x:x**2,l))\n",
    "print(a)"
   ]
  }
 ],
 "metadata": {
  "kernelspec": {
   "display_name": "Python 3 (ipykernel)",
   "language": "python",
   "name": "python3"
  },
  "language_info": {
   "codemirror_mode": {
    "name": "ipython",
    "version": 3
   },
   "file_extension": ".py",
   "mimetype": "text/x-python",
   "name": "python",
   "nbconvert_exporter": "python",
   "pygments_lexer": "ipython3",
   "version": "3.9.12"
  }
 },
 "nbformat": 4,
 "nbformat_minor": 5
}
