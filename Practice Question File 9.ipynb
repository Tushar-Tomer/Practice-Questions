{
 "cells": [
  {
   "cell_type": "markdown",
   "id": "f12e806e",
   "metadata": {},
   "source": [
    "# Q- Find the Armstrong Number."
   ]
  },
  {
   "cell_type": "code",
   "execution_count": 2,
   "id": "7a3ff93f",
   "metadata": {},
   "outputs": [
    {
     "name": "stdout",
     "output_type": "stream",
     "text": [
      "Enter Any No.=153\n",
      "It's a Armstrong No,:\n"
     ]
    }
   ],
   "source": [
    "# Armstrong Number\n",
    "n=int(input(\"Enter Any No.=\"))\n",
    "x=n\n",
    "y=x\n",
    "c=0\n",
    "arm=0\n",
    "while n!=0:\n",
    "    c=c+1\n",
    "    n=n//10\n",
    "# print(c)\n",
    "\n",
    "while x!=0:\n",
    "    d=x%10\n",
    "    arm=arm+(d**c)\n",
    "    x=x//10\n",
    "if arm==y:\n",
    "    print(\"It's a Armstrong No,:\")\n",
    "else:\n",
    "      print(\"It's not a Armstrong No,:\")"
   ]
  }
 ],
 "metadata": {
  "kernelspec": {
   "display_name": "Python 3 (ipykernel)",
   "language": "python",
   "name": "python3"
  },
  "language_info": {
   "codemirror_mode": {
    "name": "ipython",
    "version": 3
   },
   "file_extension": ".py",
   "mimetype": "text/x-python",
   "name": "python",
   "nbconvert_exporter": "python",
   "pygments_lexer": "ipython3",
   "version": "3.9.12"
  }
 },
 "nbformat": 4,
 "nbformat_minor": 5
}
